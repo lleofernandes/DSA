{
 "cells": [
  {
   "cell_type": "markdown",
   "id": "12983c5c",
   "metadata": {},
   "source": [
    "# Operações com Matrizes, Determinantes, Autovalores e Autovetores em Ciência de Dados"
   ]
  },
  {
   "cell_type": "markdown",
   "id": "6b35121a",
   "metadata": {},
   "source": [
    "!pip install -q -U watermark"
   ]
  },
  {
   "cell_type": "code",
   "execution_count": 2,
   "id": "99a402e8",
   "metadata": {},
   "outputs": [],
   "source": [
    "import numpy as np"
   ]
  },
  {
   "cell_type": "code",
   "execution_count": 3,
   "id": "3e3b1b81",
   "metadata": {},
   "outputs": [
    {
     "name": "stdout",
     "output_type": "stream",
     "text": [
      "Author: LF Analytics\n",
      "\n"
     ]
    }
   ],
   "source": [
    "%reload_ext watermark\n",
    "%watermark -a \"LF Analytics\""
   ]
  },
  {
   "cell_type": "markdown",
   "id": "4fa2ebf1",
   "metadata": {},
   "source": [
    "#### Por que NumPy é mais veloz nas operações matemáticas?"
   ]
  },
  {
   "cell_type": "markdown",
   "id": "12a951ba",
   "metadata": {},
   "source": [
    "Python é uma excelente linguagem de programação, mas ela pode ser lenta quando usada na sua forma básica. No entanto, ela permite que você acesse bibliotecas que executem código mais rápido em linguagens como C.\n",
    "\n",
    "NumPy é uma dessas bibliotecas e fornece alternativas rápidas para operações matemáticas em Python e foi projetado para funcionar de forma eficiente com grupos de números - como matrizes.\n",
    "\n",
    "Numpy é uma excelete biblioteca, sendo a base de quase todos os frameworks de aprendizarem de máquina em Python\n",
    "\n",
    "O NumPy oferece mais velocidade nas operações em comparação com Python \"puro\" por várias razões:\n",
    "\n",
    "**Implementação em C:** O NumPy é escrito principalmente em C, uma linguagem compilada que é muito mais rápida que python, uma linguagem interpretada. Isso significa que muitas de suas operaçoes são executadas em código de máquina, que é executado diretamente pelo processador, oferecendo um desempenho muito mais rapido.\n",
    "\n",
    "**Otimizações de Array:** NumPy usa arrays multidimensionais (ndarrays) que são armazenados de maneira contínua na memória. Isso é bem diferente das listas do Python, que são arrays de ponteiros para objetos espalhadps pela memória. A representação contínua permite operações mais eficientes de leitura e escrita de dados.\n",
    "\n",
    "**Operaçoes Vetorizadas:** NumPy permite operações vetorizadas, que são operações aplicadas diretamente a arrays inteiros ao invés de seus elementos individuais (como seria feito em um loop em Python \"puro\"). Essas operações são otimizadas e executadas em C, resultando em um desempenho muito mais rápido.\n",
    "\n",
    "**Menos Overhead de verificação de Tipo:** Em python, cada operação inclui verificações de tipo e outras verificações de segurança, que adicionam overhead de processamento. NumPy, por outro lado, trabalha com tipos de dados homogêneos, reduzindo significativamente esse overhead.\n",
    "\n",
    "**Uso de Bibliotecas de Matemáticas Otinizada:** NumPy é integrado com bibliotecas de matemática otimizdas com BLAS e LAPACK, que são altemente eficientes para operações matemáticas complexas e álgebra linear.\n",
    "\n",
    "**Paralelização:** Algumas operações do NumPy são intrinsecamente paralelas, permitindo que elas aproveitem processadores multi-core e operações de hardware otimizadas.\n",
    "\n",
    "Esses fatores combinados fazem com que o NumPy seja muito mais rápido para operações matemáticas e manipulação de dados em grande escala do que o python \"puro\", especialmente para arrays grandes e calculos complexos."
   ]
  },
  {
   "cell_type": "markdown",
   "id": "205f4f43",
   "metadata": {},
   "source": [
    "## Escalares, Vetores, Matrizes e Tensores"
   ]
  },
  {
   "cell_type": "markdown",
   "id": "0867f9dd",
   "metadata": {},
   "source": [
    "A maneira mais comum de trabalhar com número usando NumPy, é através de objetos ndarray. Eles são semelhantes às listas em Python, mas podem ter qualquer número de dimensoes. Além disso, o ndarray suporta operações matemáticas rápidas.\n",
    "Como você pode armazenar qualquer número de dimensoes, você pode usar o ndarrays para representar qualquer um dos tipos de dados: Escalares, Vetores, Matrizes ou Tensores."
   ]
  },
  {
   "cell_type": "markdown",
   "id": "f039ed21",
   "metadata": {},
   "source": [
    "### Escalares"
   ]
  },
  {
   "cell_type": "markdown",
   "id": "a70ceabc",
   "metadata": {},
   "source": [
    "Escalares com NumPy são mais eficientes do que em python. Em vez dos tipos básicos em python como **int, float, etc.**, o NumPy permite especificar tipos mais específicos, bem como diferentes tamanhos. Então, em vez de usar int em python, você tem acesso a tipos como uint8, int8, uint16, int16 e assim por diante, ao usar o NumPy.\n",
    "\n",
    "Esses tipos são importantes porque todos os objetos que você cria (vetores, matrizes, tensores) acabam armazenando eslacares. E quando você cria uma matriz NumPy, você pode especificar o tipo (mas cada item naa matriz deve ter o mesmo tipo). Nesse sentido, os arrays NumPy são mais como arrays C do que as listas em python.\n",
    "\n",
    "Se quiser criar uma matriz NumPy que contenha um escalar, usamos a função array do NumPy:"
   ]
  },
  {
   "cell_type": "code",
   "execution_count": 4,
   "id": "2e292733",
   "metadata": {},
   "outputs": [
    {
     "name": "stdout",
     "output_type": "stream",
     "text": [
      "type: <class 'numpy.ndarray'>\n",
      "8\n"
     ]
    }
   ],
   "source": [
    "s = np.array(8)\n",
    "print(f'type: {type(s)}')\n",
    "print(s)"
   ]
  },
  {
   "cell_type": "markdown",
   "id": "68a025dd",
   "metadata": {},
   "source": [
    "Você ainda pode realizar matemática entre ndarrays, escalares NumPy e escalares Python normais.\n",
    "Você pode ver o shape da matriz usando o atributo shape, conforme abaixo. Esse comando retorna um () vazio, indicando que este objeto é um escalar:\n"
   ]
  },
  {
   "cell_type": "code",
   "execution_count": 5,
   "id": "4ab1748e",
   "metadata": {},
   "outputs": [
    {
     "data": {
      "text/plain": [
       "()"
      ]
     },
     "execution_count": 5,
     "metadata": {},
     "output_type": "execute_result"
    }
   ],
   "source": [
    "s.shape"
   ]
  },
  {
   "cell_type": "markdown",
   "id": "c8d2ba07",
   "metadata": {},
   "source": [
    "Mesmo que os escalares estejam dentro de arrays, você ainda os usa como um escalar normal para operações matemáticas:"
   ]
  },
  {
   "cell_type": "code",
   "execution_count": 6,
   "id": "4d9ee68d",
   "metadata": {},
   "outputs": [
    {
     "name": "stdout",
     "output_type": "stream",
     "text": [
      "type: <class 'numpy.int64'>\n",
      "5\n"
     ]
    }
   ],
   "source": [
    "x = s - 3\n",
    "print(f'type: {type(x)}')\n",
    "print(x)"
   ]
  },
  {
   "cell_type": "markdown",
   "id": "540e7ae0",
   "metadata": {},
   "source": [
    "Se você verificar o tipo de x, vai perceber que é nympy.int64, pois você está trabalhando com tipos NumPy e não com tipos Python\n",
    "\n",
    "Mesmo os tipos escalares suportam a maioria das funções de matriz. Então você pode chamar x.shape e retornaria () porque tem zero dimensões, mesmo que não seja uma matriz. Se você tentar usar o objeto como um escalar python, você obterá um erro."
   ]
  },
  {
   "cell_type": "markdown",
   "id": "140555eb",
   "metadata": {},
   "source": [
    "Para criar um vetor, é necessario passar uma lista Python para função array()"
   ]
  },
  {
   "cell_type": "code",
   "execution_count": 7,
   "id": "f39c4caa",
   "metadata": {},
   "outputs": [
    {
     "name": "stdout",
     "output_type": "stream",
     "text": [
      "type: <class 'numpy.ndarray'>\n",
      "shape: (3,)\n",
      "[1 2 3]\n"
     ]
    }
   ],
   "source": [
    "vec = np.array([1, 2, 3])\n",
    "print(f'type: {type(vec)}')\n",
    "print(f'shape: {vec.shape}')\n",
    "print(vec)"
   ]
  },
  {
   "cell_type": "markdown",
   "id": "b30561dd",
   "metadata": {},
   "source": [
    "Pode utilizar o python sem usar pacote numpy, não é recomendado, pois o pacote numpy é preparado para operações matemáticas, principalmente quando se trata de grandes volumes de dados.\n",
    "Exemplo abaixo:"
   ]
  },
  {
   "cell_type": "code",
   "execution_count": 10,
   "id": "cb0cedcd",
   "metadata": {},
   "outputs": [
    {
     "name": "stdout",
     "output_type": "stream",
     "text": [
      "type: <class 'list'>\n",
      "[1, 2, 3]\n"
     ]
    }
   ],
   "source": [
    "vec_pp = [1, 2, 3]\n",
    "print(f'type: {type(vec_pp)}')\n",
    "print(vec_pp)"
   ]
  },
  {
   "cell_type": "markdown",
   "id": "c97d53f3",
   "metadata": {},
   "source": [
    "### Vetores"
   ]
  },
  {
   "cell_type": "markdown",
   "id": "44d7f1e5",
   "metadata": {},
   "source": [
    "Ao vertificar o atributo de shape do vetor, ele retornará um único número represetando o comprimento unidimensional do vetor. No exemplo acima vec.shape (3,), ou seja, tem 3 elementos em uma estrutura unidimensional.\n",
    "\n",
    "Agora que há um número, pode ver que a forma é uma tupla com os tamanhos de cada uma das dimensões do ndarray. Para os escalares, era apenas uma tupla vazia, mas os vetores têm uma dimensão, então a tupla inclui um número e uma vírgula.\n",
    "\n",
    "(Python não entende (3) como uma tupla com um item, por isso requer a vírgula. Documentação oficial do python sobre tuplas:\n",
    "https://docs.python.org/3/tutorial/datastructures.htm#tuples-and-sequences)\n",
    "\n",
    "Pode acessar um elemento dentro do vetorusando índices, como este abaixo (lembrando que a indexação do python sempre começa por 0 e o índice 1 representa o segundo elemento do vetor)."
   ]
  },
  {
   "cell_type": "code",
   "execution_count": 14,
   "id": "6a21f56a",
   "metadata": {},
   "outputs": [
    {
     "name": "stdout",
     "output_type": "stream",
     "text": [
      "shape: (4,)\n",
      "vec2[2]: 3\n"
     ]
    }
   ],
   "source": [
    "vec2 = np.array([1, 2, 3, 4])\n",
    "print(f'shape: {vec2.shape}')\n",
    "print(f'vec2[2]: {vec2[2]}')  # Acessando o terceiro elemento do vetor"
   ]
  },
  {
   "cell_type": "markdown",
   "id": "81054d8d",
   "metadata": {},
   "source": [
    "NumPy também suporta técnicas avançadas de indexação. Por exemplo, para acessar os itens do segundo elemento em diante, podemos usar:"
   ]
  },
  {
   "cell_type": "code",
   "execution_count": 15,
   "id": "6eb94039",
   "metadata": {},
   "outputs": [
    {
     "data": {
      "text/plain": [
       "array([2, 3, 4])"
      ]
     },
     "execution_count": 15,
     "metadata": {},
     "output_type": "execute_result"
    }
   ],
   "source": [
    "vec2[1:]"
   ]
  },
  {
   "cell_type": "markdown",
   "id": "989e7203",
   "metadata": {},
   "source": [
    "NumPy slicing é bastante poderoso, permitindo acessar qualquer combinação de itens em um ndarray. Documentação oficial sobre indexação e slicing de arrays:\n",
    "https://docs.scipy.org/doc/numpy/reference/arrays.indexing.html"
   ]
  },
  {
   "cell_type": "markdown",
   "id": "b1a29a5a",
   "metadata": {},
   "source": [
    "### Matrizes"
   ]
  },
  {
   "cell_type": "markdown",
   "id": "3a191f92",
   "metadata": {},
   "source": [
    "Pode criar matrizes usando a função de array() NumPy, da mesma forma que é com vetores. No entanto, ao invés de passar apenas uma lista, é necessário fornecer uma lista de listas, onde cada lista representa uma linha. Então para criar uma matriz 3x3 contendo os números de um a nove, podemos fazer o seguinte:\n"
   ]
  },
  {
   "cell_type": "code",
   "execution_count": 16,
   "id": "e67c308c",
   "metadata": {},
   "outputs": [
    {
     "name": "stdout",
     "output_type": "stream",
     "text": [
      "type: <class 'numpy.ndarray'>\n",
      "shape: (3, 3)\n",
      "[[1 2 3]\n",
      " [4 5 6]\n",
      " [7 8 9]]\n"
     ]
    }
   ],
   "source": [
    "m = np.array([ [1, 2, 3], [4, 5, 6], [7, 8, 9] ])\n",
    "print(f'type: {type(m)}')\n",
    "print(f'shape: {m.shape}')\n",
    "print(m)"
   ]
  },
  {
   "cell_type": "markdown",
   "id": "c15540a6",
   "metadata": {},
   "source": [
    "Verificando o atributo shape, retorna a tupla (3, 3) indicando que a matriz tem duas dimensões, cada dimensão com comprimento de 3 elementos.\n",
    "\n",
    "Podemos acessar elementos de matrizes como vetores, mas usando valores de índice adicionais. Então, para encontrar o número 6 na matriz acima, podemos utilizar a seguinte função:\n"
   ]
  },
  {
   "cell_type": "code",
   "execution_count": 17,
   "id": "cd60ad0f",
   "metadata": {},
   "outputs": [
    {
     "data": {
      "text/plain": [
       "np.int64(6)"
      ]
     },
     "execution_count": 17,
     "metadata": {},
     "output_type": "execute_result"
    }
   ],
   "source": [
    "m[1][2]"
   ]
  },
  {
   "cell_type": "markdown",
   "id": "cab4d08a",
   "metadata": {},
   "source": [
    "### Tensores"
   ]
  },
  {
   "cell_type": "code",
   "execution_count": null,
   "id": "c137e156",
   "metadata": {},
   "outputs": [],
   "source": []
  }
 ],
 "metadata": {
  "kernelspec": {
   "display_name": ".venv",
   "language": "python",
   "name": "python3"
  },
  "language_info": {
   "codemirror_mode": {
    "name": "ipython",
    "version": 3
   },
   "file_extension": ".py",
   "mimetype": "text/x-python",
   "name": "python",
   "nbconvert_exporter": "python",
   "pygments_lexer": "ipython3",
   "version": "3.12.6"
  }
 },
 "nbformat": 4,
 "nbformat_minor": 5
}
