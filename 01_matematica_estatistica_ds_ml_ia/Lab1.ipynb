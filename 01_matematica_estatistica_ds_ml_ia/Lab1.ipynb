{
 "cells": [
  {
   "cell_type": "markdown",
   "id": "48aaff13",
   "metadata": {},
   "source": [
    "# Matemática e Estatistica Aplicada para Data Science, Machine Learning e IA"
   ]
  },
  {
   "cell_type": "markdown",
   "id": "567f69de",
   "metadata": {},
   "source": [
    "### Configuração inicial"
   ]
  },
  {
   "cell_type": "code",
   "execution_count": 1,
   "id": "bff6c636",
   "metadata": {},
   "outputs": [
    {
     "name": "stdout",
     "output_type": "stream",
     "text": [
      "Author: Data Science Academy\n",
      "\n"
     ]
    }
   ],
   "source": [
    "# Para atulizar um pacote, execute o comando abaixo:\n",
    "# pip install -U nome_pacote\n",
    "\n",
    "# Para instalar a versão exata de um pacote, executae o comando abaixo\n",
    "# pip install nome_pacote==versao\n",
    "# Depois de instalar, reiniciar o jupyter notebook\n",
    "\n",
    "# Instalar o pacote watermark\n",
    "# !pip install -q -U watermark   \n",
    "## -q (quiet, não exibe mensagens de instalação), -U (atualiza o pacote)\n",
    "## Da pra instalar direto pela interface do Jupyter Notebook\n",
    "\n",
    "#versoes dos pacotes usados neste jupyter notebook\n",
    "%reload_ext watermark\n",
    "%watermark -a \"Data Science Academy\" --iversions"
   ]
  },
  {
   "cell_type": "markdown",
   "id": "8a416822",
   "metadata": {},
   "source": [
    "### Números e Representações"
   ]
  },
  {
   "cell_type": "markdown",
   "id": "8cbd85f8",
   "metadata": {},
   "source": [
    "Na matemática, uma variedade de números e suas representações, são usados para diferentes propósitos. Aqui está uma lista dos tipos mais comuns de números e suas representações:\n",
    "\n",
    "- **Números Naturais (N)**: São os números interiros não-negativos. Incluem 0, 1, 2, 3, 4... Eles são usados para contar e ordenar.\n",
    "- **Números Inteiros (Z)**: Incluem todos os números naturais, seus opostos negativos e o zero. Portando, são ..., -3, -2, -1, 0, 1, 2, 3...\n",
    "- **Números Racionais (Q)**: São os números que podem ser expressos como fração de dois inteiros, onde o denominador não é zero. Incluem números como 1/2, -3/4, 5, 0.75, etc\n",
    "- **Números Irracionais**: São números que não podem ser expressos como uma fração simples de dois inteiros. Incluem números como $\\pi$ (pi) e $\\sqrt{2}$. Esses números têm uma expansão decimal infinita não periódica.\n",
    "- **Números Reais (R)**:  Incluem todos os números, racionais e irracionais. Os números reais podem ser representados em uma linha numérica.\n",
    "- **Números Complexos (C)**: Incluem todos os números que podem ser expressos na forma **a + bi**, onde:\n",
    "- * **a** e **b** são números reais \n",
    "- * **i** é a unidade imaginária. A unidade imaginária é uma extensão dos números reais e foi criada para solucionar equações que não possuem soluções dentro do conjunto dos números reais. A unidade imaginária é representada pela letra **i**, que é definida como a raiz quadrada de **-1**.\n",
    "- **Números Primos**: São números maiores que 1 que têm exatamente dois divisores distintos: 1 e eles mesmos. Exemplos inclue: 2, 3, 5, 7, 11, ..."
   ]
  },
  {
   "cell_type": "markdown",
   "id": "4cf2f8ca",
   "metadata": {},
   "source": [
    "### PEMDAS"
   ]
  },
  {
   "cell_type": "markdown",
   "id": "be5eabcb",
   "metadata": {},
   "source": [
    "A regra PEMDAS é um acrônimo que ajuda a lembrar a ordem das operações matemáticas:\n",
    "- Parênteses\n",
    "- Expoêntes (ou potências)\n",
    "- Multiplicação e Divisão (da esquerda para a direita)\n",
    "- Adição e Subtração (da esquerda para a direita)\n",
    "\n",
    "Esta regra é um guia para determinar qual operação matemática deve ser realizada primeiro em uma expressão matemática. Aqui está como ela funciona:\n",
    "- Parênteses: Realize primeiro as operações dentro do parênteses. isso também se aplica a colchetes [] e chaves {}\n",
    "- Multiplicação e Divisão: Estas operações são realizadas da esquerda para a direita. Elas têm a mesma prioridade, o que significa que você deve fazer a que aparecer primeiro\n",
    "- Adição e Subtração: Por último, faça as operações de adição e subtração, também da esquerda para a direita. Assim como na multiplicação e divisão, adição e subtração tem a mesma prioridade.\n",
    "\n",
    "É importar notar que, embora a regra PEMDAS seja um guia útil, ela não substitui a compreensão das propriedades matemáticas e de como as expressões são construidas e simplificadas.\n"
   ]
  },
  {
   "cell_type": "code",
   "execution_count": null,
   "id": "9937181d",
   "metadata": {},
   "outputs": [],
   "source": [
    "# P: Parênteses\n",
    "# E: Expoentes (ou potências)\n",
    "# M: Multiplicação \n",
    "# D: Divisão\n",
    "# A: Adição\n",
    "# S: Subtração"
   ]
  },
  {
   "cell_type": "markdown",
   "id": "54d08ce8",
   "metadata": {},
   "source": [
    "### O que são Equações?"
   ]
  },
  {
   "cell_type": "markdown",
   "id": "28f4af26",
   "metadata": {},
   "source": [
    "Equações, são cálculos em que uma ou mais variáveis representam valores desconhecidos."
   ]
  },
  {
   "cell_type": "markdown",
   "id": "ae1f10f0",
   "metadata": {},
   "source": [
    "#### Resolvendo Equações com 1 passo"
   ]
  },
  {
   "cell_type": "markdown",
   "id": "f89f2f6c",
   "metadata": {},
   "source": [
    "Considere a seguinte equação:\n",
    "- x + 12 = -37\n",
    "- x = -37 - 12\n",
    "- x = -49\n"
   ]
  },
  {
   "cell_type": "code",
   "execution_count": 22,
   "id": "0317491a",
   "metadata": {},
   "outputs": [
    {
     "data": {
      "text/plain": [
       "True"
      ]
     },
     "execution_count": 22,
     "metadata": {},
     "output_type": "execute_result"
    }
   ],
   "source": [
    "# Atribuindo valor a x\n",
    "x = -49\n",
    "# Comparando as expressões\n",
    "x + 12 == -37\n"
   ]
  },
  {
   "cell_type": "code",
   "execution_count": 23,
   "id": "c9f42823",
   "metadata": {},
   "outputs": [
    {
     "data": {
      "text/plain": [
       "False"
      ]
     },
     "execution_count": 23,
     "metadata": {},
     "output_type": "execute_result"
    }
   ],
   "source": [
    "# Atribuindo valor a x\n",
    "x = 1\n",
    "\n",
    "# Comparando as expressões\n",
    "x + 12 == 49"
   ]
  },
  {
   "cell_type": "markdown",
   "id": "3bcd0c00",
   "metadata": {},
   "source": [
    "#### Resolvendo Equações com 2 passos"
   ]
  },
  {
   "cell_type": "markdown",
   "id": "ce231475",
   "metadata": {},
   "source": [
    "$$ \n",
    "3x - 2 = 10\n",
    "$$"
   ]
  },
  {
   "cell_type": "code",
   "execution_count": 12,
   "id": "8a065bb1",
   "metadata": {},
   "outputs": [],
   "source": [
    "# 3x - 2 = 10\n",
    "# 3x = 10 + 2\n",
    "# x = (10 + 2) / 3\n",
    "# x = 12 / 3\n",
    "# x = 4"
   ]
  },
  {
   "cell_type": "code",
   "execution_count": 21,
   "id": "a31d579e",
   "metadata": {},
   "outputs": [
    {
     "data": {
      "text/plain": [
       "True"
      ]
     },
     "execution_count": 21,
     "metadata": {},
     "output_type": "execute_result"
    }
   ],
   "source": [
    "# Atribuindo valor a x\n",
    "x = 4\n",
    "3 * x - 2 == 10"
   ]
  },
  {
   "cell_type": "code",
   "execution_count": 11,
   "id": "aeeeb37b",
   "metadata": {},
   "outputs": [
    {
     "data": {
      "text/plain": [
       "4.0"
      ]
     },
     "execution_count": 11,
     "metadata": {},
     "output_type": "execute_result"
    }
   ],
   "source": [
    "x = (10 + 2) / 3\n",
    "x"
   ]
  },
  {
   "cell_type": "markdown",
   "id": "46f7fc38",
   "metadata": {},
   "source": [
    "#### Resolvendo equações combinando Termos"
   ]
  },
  {
   "cell_type": "markdown",
   "id": "9875a09b",
   "metadata": {},
   "source": [
    "Termos semelhantes são elementos de uma expressão que se relacionam com a mesma variável ou constante (com a mesma ordem ou exponencial), por exemplo, considere a seguinte equação:\n",
    "$$\n",
    "5x + 1 -2x = 22\n",
    "$$"
   ]
  },
  {
   "cell_type": "code",
   "execution_count": null,
   "id": "db5c2db2",
   "metadata": {},
   "outputs": [],
   "source": [
    "# 5x - 2x = 22 - 1\n",
    "# 3x = 21\n",
    "# x = 21 / 3\n",
    "# x = 7"
   ]
  },
  {
   "cell_type": "code",
   "execution_count": 20,
   "id": "1dc138c5",
   "metadata": {},
   "outputs": [
    {
     "data": {
      "text/plain": [
       "True"
      ]
     },
     "execution_count": 20,
     "metadata": {},
     "output_type": "execute_result"
    }
   ],
   "source": [
    "# Atribuindo valor a x\n",
    "x = 7\n",
    "5 * x + 1 - 2 * x == 22"
   ]
  },
  {
   "cell_type": "markdown",
   "id": "4a33fa10",
   "metadata": {},
   "source": [
    "### Trabalhando com Frações"
   ]
  },
  {
   "cell_type": "markdown",
   "id": "313bec77",
   "metadata": {},
   "source": [
    "Considere a seguinte expressão:\n",
    "- Exemplo 1:\n",
    "$$ \n",
    "\\frac{x}{3} + 1 = 16\n",
    "$$"
   ]
  },
  {
   "cell_type": "code",
   "execution_count": 24,
   "id": "53561a19",
   "metadata": {},
   "outputs": [],
   "source": [
    "# x/3 = 16 - 1\n",
    "# x/3 = 15\n",
    "# x = 15 * 3\n",
    "# x = 45\n"
   ]
  },
  {
   "cell_type": "code",
   "execution_count": 27,
   "id": "76333c97",
   "metadata": {},
   "outputs": [
    {
     "data": {
      "text/plain": [
       "True"
      ]
     },
     "execution_count": 27,
     "metadata": {},
     "output_type": "execute_result"
    }
   ],
   "source": [
    "# Atribuindo valor a x\n",
    "x = 45\n",
    "\n",
    "# Comparando as expressões\n",
    "x / 3 + 1 == 16"
   ]
  },
  {
   "cell_type": "markdown",
   "id": "13dc0fcd",
   "metadata": {},
   "source": [
    "- Exemplo 2\n",
    "$$\n",
    "\\frac{2}{5}x + 1 = 11\n",
    "$$"
   ]
  },
  {
   "cell_type": "code",
   "execution_count": 28,
   "id": "b723b486",
   "metadata": {},
   "outputs": [],
   "source": [
    "# 2 / 5 * x + 1 = 11\n",
    "# 2 / 5 * x = 11 - 1\n",
    "# 2 / 5 * x = 10\n",
    "# 2 * x = 10 * 5\n",
    "# 2 * x = 50\n",
    "# x = 50 / 2\n",
    "# x = 25"
   ]
  },
  {
   "cell_type": "code",
   "execution_count": 31,
   "id": "8ce2326f",
   "metadata": {},
   "outputs": [
    {
     "data": {
      "text/plain": [
       "True"
      ]
     },
     "execution_count": 31,
     "metadata": {},
     "output_type": "execute_result"
    }
   ],
   "source": [
    "# atribuindo valor a x\n",
    "x = 25\n",
    "\n",
    "# comparando as expressões\n",
    "2 / 5 * x + 1 == 11"
   ]
  },
  {
   "cell_type": "markdown",
   "id": "8ba97e7f",
   "metadata": {},
   "source": [
    "#### Equações com variáveis em ambos os lados"
   ]
  },
  {
   "cell_type": "markdown",
   "id": "9ef67d6e",
   "metadata": {},
   "source": [
    "Considere a seguinte expressão:\n",
    "$$\n",
    "3x + 2 = 5x - 1\n",
    "$$"
   ]
  },
  {
   "cell_type": "code",
   "execution_count": null,
   "id": "360bc31f",
   "metadata": {},
   "outputs": [],
   "source": [
    "# 3x + 2 = 5x - 1\n",
    "# 3x + 2 + 1 = 5x\n",
    "# 3x + 3 = 5x\n",
    "# 3 = 5x - 3x\n",
    "# 3 = 2x\n",
    "# x = 3 / 2\n",
    "# x = 1.5"
   ]
  },
  {
   "cell_type": "code",
   "execution_count": 34,
   "id": "0c34729f",
   "metadata": {},
   "outputs": [
    {
     "data": {
      "text/plain": [
       "True"
      ]
     },
     "execution_count": 34,
     "metadata": {},
     "output_type": "execute_result"
    }
   ],
   "source": [
    "# atribuindo valor a x\n",
    "x = 1.5\n",
    "\n",
    "# comparando as expressões\n",
    "3 * x + 2 == 5 * x - 1"
   ]
  },
  {
   "cell_type": "markdown",
   "id": "33d6d6a0",
   "metadata": {},
   "source": [
    "#### Propriedade distributiva"
   ]
  },
  {
   "cell_type": "markdown",
   "id": "54fd72cc",
   "metadata": {},
   "source": [
    "A propriedade distributiva é uma lei matemática que nos permite distribuir a mesma operação para termos entre parênteses.\n",
    "Considere a seguinte exprssão\n",
    "$$\n",
    "4(x + 2) + 3(x - 2) = 16\n",
    "$$"
   ]
  },
  {
   "cell_type": "code",
   "execution_count": 35,
   "id": "7ea1f47d",
   "metadata": {},
   "outputs": [],
   "source": [
    "# 4(x + 2) + 3(x - 2) = 16\n",
    "# 4x + 8 + 3x - 6 = 16\n",
    "# 7x + 2 = 16\n",
    "# 7x = 16 - 2\n",
    "# 7x = 14\n",
    "# x = 14 / 7\n",
    "# x = 2"
   ]
  },
  {
   "cell_type": "code",
   "execution_count": 36,
   "id": "82518174",
   "metadata": {},
   "outputs": [
    {
     "data": {
      "text/plain": [
       "True"
      ]
     },
     "execution_count": 36,
     "metadata": {},
     "output_type": "execute_result"
    }
   ],
   "source": [
    "# atribuindo valor a x\n",
    "x = 2\n",
    "\n",
    "# comparando as expressões\n",
    "4 * (x + 2) + 3 * (x - 2) == 16"
   ]
  },
  {
   "cell_type": "code",
   "execution_count": 38,
   "id": "e3f5356f",
   "metadata": {},
   "outputs": [
    {
     "name": "stdout",
     "output_type": "stream",
     "text": [
      "Author: Data Science Academy\n",
      "\n"
     ]
    }
   ],
   "source": [
    "%reload_ext watermark\n",
    "%watermark -a \"Data Science Academy\""
   ]
  },
  {
   "cell_type": "code",
   "execution_count": 39,
   "id": "81d5775c",
   "metadata": {},
   "outputs": [
    {
     "name": "stdout",
     "output_type": "stream",
     "text": [
      "Python implementation: CPython\n",
      "Python version       : 3.12.6\n",
      "IPython version      : 9.2.0\n",
      "\n",
      "Compiler    : MSC v.1940 64 bit (AMD64)\n",
      "OS          : Windows\n",
      "Release     : 11\n",
      "Machine     : AMD64\n",
      "Processor   : AMD64 Family 25 Model 33 Stepping 0, AuthenticAMD\n",
      "CPU cores   : 12\n",
      "Architecture: 64bit\n",
      "\n"
     ]
    }
   ],
   "source": [
    "%watermark -v -m"
   ]
  },
  {
   "cell_type": "code",
   "execution_count": null,
   "id": "599dd35d",
   "metadata": {},
   "outputs": [],
   "source": []
  }
 ],
 "metadata": {
  "kernelspec": {
   "display_name": ".venv (3.12.6)",
   "language": "python",
   "name": "python3"
  },
  "language_info": {
   "codemirror_mode": {
    "name": "ipython",
    "version": 3
   },
   "file_extension": ".py",
   "mimetype": "text/x-python",
   "name": "python",
   "nbconvert_exporter": "python",
   "pygments_lexer": "ipython3",
   "version": "3.12.6"
  }
 },
 "nbformat": 4,
 "nbformat_minor": 5
}
