{
 "cells": [
  {
   "cell_type": "markdown",
   "id": "eb1b68a3",
   "metadata": {},
   "source": [
    "## Calculando a similaridade entre vetores e dados"
   ]
  },
  {
   "cell_type": "markdown",
   "id": "1da0507d",
   "metadata": {},
   "source": [
    "### Exercicio 1: Cálculo de distância euclidiana\n",
    "\n",
    "Descrição: escreva uma função em python que receba dois vetores (lista de números) de mesma dimensão e retorna a distância euclidiana entre eles."
   ]
  },
  {
   "cell_type": "code",
   "execution_count": 1,
   "id": "d2565d72",
   "metadata": {},
   "outputs": [
    {
     "name": "stdout",
     "output_type": "stream",
     "text": [
      "distancia euclidian: 5.196152422706632\n"
     ]
    }
   ],
   "source": [
    "def calc_distancia_euclidiana(vetor1, vetor2):\n",
    "    \"\"\"\n",
    "    Calcula a distância euclidiana entre dois vetores.\n",
    "    :param vetor1: lista de números representando o primeiro vetor\n",
    "    :param vetor2: lista de números representando o segundo vetor\n",
    "    :return: A distancia euclidiana entre os dois vetores\n",
    "    \"\"\"\n",
    "    \n",
    "    \n",
    "    if len(vetor1) != len(vetor2):\n",
    "        raise ValueError(\"Os vetores devem ter a mesma dimensão.\")\n",
    "    \n",
    "    soma_quadrados = sum((v1 - v2) ** 2 for v1, v2 in zip(vetor1, vetor2))\n",
    "    distancia = soma_quadrados ** 0.5 #retorna a raiz quadrada da soma\n",
    "    return distancia\n",
    "\n",
    "vetor_a = [1, 2, 3]\n",
    "vetor_b = [4, 5, 6]\n",
    "\n",
    "distancia = calc_distancia_euclidiana(vetor_a, vetor_b)\n",
    "print(f'distancia euclidian: {distancia}')"
   ]
  },
  {
   "cell_type": "markdown",
   "id": "b2f75196",
   "metadata": {},
   "source": [
    "O valor 5.196... representa a distancia euclidiana entre os dois vetores fornecidos. A distancia euclidiana, também conhecida como norma L2 ou norma euclidiana, é uma medida de espaço euclidiano, que é o espaço geométrico mais comum.\n",
    "\n",
    "Para interprestar esse valor:\n",
    "- **Contexto geométrico:** Imagine que cada vetor representa um ponto em um espaço tridimensional (pois cada vetor tem três componentes). O valor 5.196 é a distância \"em linha reta\" entre esses dois pontos. Se você pudesse traçar uma linha entre os pontos representados pelos vetores [1, 2, 3] e [4, 5, 6], essa linha teria comprimento de aproximadamente 5.196 unidades.\n",
    "\n",
    "- **Similaridade:** Em algumas aplicações, como aprendizado de máquina e estatística, a distância euclidiana pode ser usada para avaliar a similaridade entre dois conjuntos de dados. Menores distância indicam maior similaridade, enquanto maiores distância indicam menor similaridade.\n",
    "\n",
    "- **Interpretação numérida:** O número 5.196, em si, é uma medida absoluta e sua interprestação pode depender do contexto. Por exemplo, se os vetores representam coordenadas em metros, então a distância entre os pontos é de 5.196 metros. Se não houver uma unidade específica ou um contexto, este valor é apenas uma medida de \"quão longe\" os pontos estão um do outro em termos matemáticos."
   ]
  },
  {
   "cell_type": "markdown",
   "id": "6ee46c22",
   "metadata": {},
   "source": [
    "### Exercício 2: Distância euclidiana com validação de dados"
   ]
  },
  {
   "cell_type": "markdown",
   "id": "91985aab",
   "metadata": {},
   "source": [
    "Descrição: Modifique a função do Exercício 1 para validar se os dois vetores têm o mesmo tamanho. Se não tiverem, a função deve retornar um erro."
   ]
  },
  {
   "cell_type": "code",
   "execution_count": null,
   "id": "1b355498",
   "metadata": {},
   "outputs": [
    {
     "name": "stdout",
     "output_type": "stream",
     "text": [
      "Erro: Os vetores devem ter a mesma dimensão.\n"
     ]
    }
   ],
   "source": [
    "def calc_distancia_euclidiana_validacao(vetor1, vetor2):\n",
    "    \"\"\"\n",
    "    Calcula a distância euclidiana entre dois vetores.\n",
    "    :param vetor1: lista de números representando o primeiro vetor\n",
    "    :param vetor2: lista de números representando o segundo vetor\n",
    "    :return: A distancia euclidiana entre os dois vetores\n",
    "    \"\"\"\n",
    "    \n",
    "    \n",
    "    if len(vetor1) != len(vetor2):\n",
    "        raise ValueError(\"Os vetores devem ter a mesma dimensão.\")\n",
    "    \n",
    "    soma_quadrados = sum((v1 - v2) ** 2 for v1, v2 in zip(vetor1, vetor2))\n",
    "    distancia = soma_quadrados ** 0.5 #retorna a raiz quadrada da soma\n",
    "    return distancia\n",
    "\n",
    "# vetores com tamanhos iguais\n",
    "# vetor_a = [1, 2, 3]\n",
    "# vetor_b = [4, 5, 6]\n",
    "\n",
    "# vetores com tamanhos diferentes\n",
    "vetor_a = [1, 2]\n",
    "vetor_b = [4, 5, 6]\n",
    "\n",
    "try:\n",
    "    distancia = calc_distancia_euclidiana_validacao(vetor_a, vetor_b)\n",
    "    print(f'distancia euclidian: {distancia}')\n",
    "\n",
    "except ValueError as e:\n",
    "    print(f\"Erro: {e}\")\n"
   ]
  },
  {
   "cell_type": "markdown",
   "id": "1098ff22",
   "metadata": {},
   "source": [
    "### Exercítio 3: Distância euclidiana em N-Dimensões"
   ]
  },
  {
   "cell_type": "markdown",
   "id": "2b628740",
   "metadata": {},
   "source": [
    "Descrição: Generalize a função do exercício 1 para que ela possa calcular a distancia euclidiana entre dois vetores em um espaço de qualquer número de dimensões"
   ]
  },
  {
   "cell_type": "code",
   "execution_count": 5,
   "id": "b8b2da18",
   "metadata": {},
   "outputs": [
    {
     "name": "stdout",
     "output_type": "stream",
     "text": [
      "distancia euclidiana: 8.0\n"
     ]
    }
   ],
   "source": [
    "def calc_distancia_euclidiana_nd(vetor1, vetor2):\n",
    "    \"\"\"\n",
    "    Calcula a distância euclidiana entre dois vetores em um espaço qualquer número de dimensões\n",
    "    \n",
    "    :param vetor1: lista de números representando o primeiro vetor\n",
    "    :param vetor2: lista de números representando o segundo vetor\n",
    "    :return: A distancia euclidiana entre os dois vetores\n",
    "    :raises: ValueError se os vetores têm amanhos diferentes \n",
    "    \"\"\"\n",
    "    \n",
    "    \n",
    "    if len(vetor1) != len(vetor2):\n",
    "        raise ValueError(\"Os vetores devem ter a mesma dimensão.\")\n",
    "    \n",
    "    soma_quadrados = sum((v1 - v2) ** 2 for v1, v2 in zip(vetor1, vetor2))\n",
    "    distancia = soma_quadrados ** 0.5 #retorna a raiz quadrada da soma\n",
    "    return distancia\n",
    "\n",
    "vetor_a = [1, 2, 3, 4]\n",
    "vetor_b = [5, 6, 7, 8]\n",
    "\n",
    "distancia = calc_distancia_euclidiana_nd(vetor_a, vetor_b)\n",
    "print(f'distancia euclidiana: {distancia}')"
   ]
  },
  {
   "cell_type": "code",
   "execution_count": 10,
   "id": "0c736995",
   "metadata": {},
   "outputs": [
    {
     "name": "stdout",
     "output_type": "stream",
     "text": [
      "distancia euclidiana: 200.18922207251816\n"
     ]
    }
   ],
   "source": [
    "# usando a função\n",
    "vetor_a = [0.1, 200, 3/2, 4.9, 10]\n",
    "vetor_b = [1.2, 1/8, 0.78, 0.003, 20]\n",
    "\n",
    "try:\n",
    "    distancia = calc_distancia_euclidiana_nd(vetor_a, vetor_b)\n",
    "    print(f'distancia euclidiana: {distancia}')\n",
    "except ValueError as e:\n",
    "    print(f'Error: {e}')"
   ]
  },
  {
   "cell_type": "code",
   "execution_count": null,
   "id": "be2d3241",
   "metadata": {},
   "outputs": [],
   "source": []
  }
 ],
 "metadata": {
  "kernelspec": {
   "display_name": ".venv",
   "language": "python",
   "name": "python3"
  },
  "language_info": {
   "codemirror_mode": {
    "name": "ipython",
    "version": 3
   },
   "file_extension": ".py",
   "mimetype": "text/x-python",
   "name": "python",
   "nbconvert_exporter": "python",
   "pygments_lexer": "ipython3",
   "version": "3.12.6"
  }
 },
 "nbformat": 4,
 "nbformat_minor": 5
}
