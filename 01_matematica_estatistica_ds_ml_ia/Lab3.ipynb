{
 "cells": [
  {
   "cell_type": "markdown",
   "id": "1522cf25",
   "metadata": {},
   "source": [
    "# Regras Básicas da Álgebra, Operações com Vetores e Algorítmo de Machine Learning"
   ]
  },
  {
   "cell_type": "markdown",
   "id": "313f803d",
   "metadata": {},
   "source": [
    "## Regras Básicas de Álgebra"
   ]
  },
  {
   "cell_type": "markdown",
   "id": "61fce3dc",
   "metadata": {},
   "source": [
    "##### | Propriedades da Igualdade"
   ]
  },
  {
   "cell_type": "code",
   "execution_count": 1,
   "id": "bb5e738f",
   "metadata": {},
   "outputs": [
    {
     "name": "stdout",
     "output_type": "stream",
     "text": [
      "True\n"
     ]
    }
   ],
   "source": [
    "# Reflexiva\n",
    "# Qualquer número ou expressão é igual a si mesmo\n",
    "a = 5\n",
    "print(a == a)  # True"
   ]
  },
  {
   "cell_type": "code",
   "execution_count": 2,
   "id": "e38d527b",
   "metadata": {},
   "outputs": [
    {
     "name": "stdout",
     "output_type": "stream",
     "text": [
      "True\n",
      "True\n"
     ]
    }
   ],
   "source": [
    "# Simétrica\n",
    "# Se A é igual a B, então B é igual a A\n",
    "a = 5\n",
    "b = 5\n",
    "print(a == b)  # True\n",
    "print(b == a)  # True"
   ]
  },
  {
   "cell_type": "code",
   "execution_count": 3,
   "id": "ee7c0557",
   "metadata": {},
   "outputs": [
    {
     "name": "stdout",
     "output_type": "stream",
     "text": [
      "True\n",
      "True\n"
     ]
    }
   ],
   "source": [
    "# Transitiva\n",
    "# Se A é igual a B e B é igual a C, então A é igual a C\n",
    "a = 5\n",
    "b = 5\n",
    "c = 5\n",
    "print(a == b and b == c)  # True\n",
    "print(a == c)  # True"
   ]
  },
  {
   "cell_type": "markdown",
   "id": "91b7e508",
   "metadata": {},
   "source": [
    "##### | Propriedades das Operações"
   ]
  },
  {
   "cell_type": "code",
   "execution_count": 12,
   "id": "d4cb0bc2",
   "metadata": {},
   "outputs": [
    {
     "name": "stdout",
     "output_type": "stream",
     "text": [
      "True\n",
      "True\n"
     ]
    }
   ],
   "source": [
    "# Comutativa (adição e multiplicação)\n",
    "# A ordem dos números não altera o resultado\n",
    "a = 3\n",
    "b = 4\n",
    "print(a + b == b + a)  # True\n",
    "print(a * b == b * a)  # True"
   ]
  },
  {
   "cell_type": "code",
   "execution_count": null,
   "id": "62b2b310",
   "metadata": {},
   "outputs": [
    {
     "name": "stdout",
     "output_type": "stream",
     "text": [
      "True\n",
      "True\n"
     ]
    }
   ],
   "source": [
    "# Associativa (adição e multiplicação)\n",
    "# A forma como os números são agrupados não altera a soma ou o produto\n",
    "a = 3\n",
    "b = 4\n",
    "c = 5 \n",
    "print((a + b) + c == a + (b + c))  # True\n",
    "print((a * b) * c == a * (b * c))  # True"
   ]
  },
  {
   "cell_type": "code",
   "execution_count": 2,
   "id": "62aeeb4e",
   "metadata": {},
   "outputs": [
    {
     "name": "stdout",
     "output_type": "stream",
     "text": [
      "True\n"
     ]
    }
   ],
   "source": [
    "# Distributiva (multiplicação sobre adição)\n",
    "# A multiplicação distribui sobre a adição\n",
    "a = 3\n",
    "b = 4\n",
    "c = 5 \n",
    "print(a * (b + c) == (a * b) + (a * c))  # True"
   ]
  },
  {
   "cell_type": "markdown",
   "id": "50af5f2c",
   "metadata": {},
   "source": [
    "##### | Elementos Neutros e Inversos"
   ]
  },
  {
   "cell_type": "code",
   "execution_count": null,
   "id": "acb3878e",
   "metadata": {},
   "outputs": [
    {
     "name": "stdout",
     "output_type": "stream",
     "text": [
      "True\n",
      "True\n"
     ]
    }
   ],
   "source": [
    "# Elemento Neutro da Adição e Multiplicação\n",
    "# O elemento neutro da adição é 0 e da multiplicação é 1\n",
    "a = 5\n",
    "print(a + 0 == a)  # True\n",
    "print(a * 1 == a)  # True"
   ]
  },
  {
   "cell_type": "code",
   "execution_count": 6,
   "id": "1aa80d05",
   "metadata": {},
   "outputs": [
    {
     "name": "stdout",
     "output_type": "stream",
     "text": [
      "True\n",
      "True\n"
     ]
    }
   ],
   "source": [
    "# Inverso do Aditivo e Multiplicativo\n",
    "# O inverso aditivo de A é -A e o inverso multiplicativo é 1/A (desde que A != 0)\n",
    "a = 5\n",
    "print(a + (-a) == 0)  # True\n",
    "print(a * (1/a) == 1)  # True, desde que a != 0 "
   ]
  },
  {
   "cell_type": "markdown",
   "id": "d560d879",
   "metadata": {},
   "source": [
    "##### | Regras de Exponenciação"
   ]
  },
  {
   "cell_type": "code",
   "execution_count": 7,
   "id": "a85af8f9",
   "metadata": {},
   "outputs": [
    {
     "name": "stdout",
     "output_type": "stream",
     "text": [
      "True\n"
     ]
    }
   ],
   "source": [
    "#Produto de mesma base\n",
    "# A multiplicação de números com a mesma base é igual à base elevada à soma dos expoentes\n",
    "print(2**3 * 2**4 == 2**(3 + 4))  # True"
   ]
  },
  {
   "cell_type": "code",
   "execution_count": 8,
   "id": "2d945147",
   "metadata": {},
   "outputs": [
    {
     "name": "stdout",
     "output_type": "stream",
     "text": [
      "True\n"
     ]
    }
   ],
   "source": [
    "# Divisão de mesma base\n",
    "# A divisão de números com a mesma base é igual à base elevada à diferença dos expoentes\n",
    "print(2**5 / 2**3 == 2**(5 - 3))  # True"
   ]
  },
  {
   "cell_type": "code",
   "execution_count": 9,
   "id": "08ed647c",
   "metadata": {},
   "outputs": [
    {
     "name": "stdout",
     "output_type": "stream",
     "text": [
      "True\n"
     ]
    }
   ],
   "source": [
    "# Potência de potência\n",
    "# A potência de uma potência é igual à base elevada ao produto dos expoentes\n",
    "print((2**3)**2 == 2**(3 * 2))  # True"
   ]
  },
  {
   "cell_type": "code",
   "execution_count": 10,
   "id": "30442eef",
   "metadata": {},
   "outputs": [
    {
     "name": "stdout",
     "output_type": "stream",
     "text": [
      "True\n"
     ]
    }
   ],
   "source": [
    "# Potência de produto\n",
    "# A potência de um produto é igual ao produto das potências\n",
    "print((2 * 3)**2 == (2**2) * (3**2))  # True"
   ]
  },
  {
   "cell_type": "code",
   "execution_count": 11,
   "id": "74dc46b9",
   "metadata": {},
   "outputs": [
    {
     "name": "stdout",
     "output_type": "stream",
     "text": [
      "True\n"
     ]
    }
   ],
   "source": [
    "# Expoente zero\n",
    "# Qualquer número elevado a zero é igual a 1 (exceto zero elevado a zero, que é indeterminado)\n",
    "print(5**0 == 1)  # True"
   ]
  },
  {
   "cell_type": "markdown",
   "id": "def516c7",
   "metadata": {},
   "source": [
    "##### | Regras de Radicais"
   ]
  },
  {
   "cell_type": "code",
   "execution_count": 35,
   "id": "e19af72f",
   "metadata": {},
   "outputs": [
    {
     "name": "stdout",
     "output_type": "stream",
     "text": [
      "False\n",
      "4.0\n",
      "4.000000000000001\n",
      "Round 4.0 == 4.0: True\n",
      "Round sqrt: True\n",
      "True\n"
     ]
    }
   ],
   "source": [
    "# Raiz de um Produto ** Atenção ao calculo de ponto flutuante \n",
    "# A raiz de um produto é igual ao produto das raízes\n",
    "import math\n",
    "print(math.sqrt(2 * 8) == math.sqrt(2) * math.sqrt(8))  # True\n",
    "\n",
    "# Vamos adicionar tolerância ao calculo de ponto flutuante\n",
    "a = math.sqrt(2 * 8)\n",
    "b = math.sqrt(2) * math.sqrt(8)\n",
    "tolerance = 1e-10\n",
    "\n",
    "print(a)\n",
    "print(b)\n",
    "print(f\"Round {round(a, 0)} == {round(b, 0)}: {round(a, 0) == round(b, 0)}\") # True, arredondando para o inteiro mais próximo\n",
    "print(f\"Round sqrt: {round(math.sqrt(2 * 8)) == round(math.sqrt(2) * math.sqrt(8))}\")  # True\n",
    "print(abs(a - b) < tolerance)  # True, considerando a tolerância"
   ]
  },
  {
   "cell_type": "code",
   "execution_count": 15,
   "id": "efc9a1fc",
   "metadata": {},
   "outputs": [
    {
     "name": "stdout",
     "output_type": "stream",
     "text": [
      "True\n"
     ]
    }
   ],
   "source": [
    "# Raiz de um Quociente\n",
    "# A raiz de um quociente é igual ao quociente das raízes\n",
    "print(math.sqrt(16 / 4) == math.sqrt(16) / math.sqrt(4))  # True"
   ]
  },
  {
   "cell_type": "markdown",
   "id": "9473b5ea",
   "metadata": {},
   "source": [
    "##### | Regras de Polinômios (Adição e Subtração de Termos Semelhantes)"
   ]
  },
  {
   "cell_type": "code",
   "execution_count": 36,
   "id": "b66e535a",
   "metadata": {},
   "outputs": [
    {
     "name": "stdout",
     "output_type": "stream",
     "text": [
      "27\n"
     ]
    }
   ],
   "source": [
    "# Regras de polinômios (Adição e Subtração de termos semelhantes)\n",
    "# A adição e subtração de polinômios envolve combinar termos semelhantes\n",
    "\n",
    "# Polinômios: 2x^2 + 3x + 4 e 3x^2 - 2x + 1\n",
    "# Adição: (2x^2 + 3x^2) + (3x - 2x) + (4 + 1)\n",
    "# Subtração: (2x^2 - 3x^2) + (3x + 2x) + (4 - 1)\n",
    "\n",
    "# Variável\n",
    "x = 2\n",
    "\n",
    "# Calcula a adiçõ dos polinômios\n",
    "print((2*x**2 + 3*x**2) + (3*x - 2*x) + (4 + 1))  # 7*x**2 + x + 5"
   ]
  },
  {
   "cell_type": "markdown",
   "id": "c342618d",
   "metadata": {},
   "source": [
    "##### | Regras de Frações"
   ]
  },
  {
   "cell_type": "code",
   "execution_count": 37,
   "id": "43b6ff2e",
   "metadata": {},
   "outputs": [
    {
     "name": "stdout",
     "output_type": "stream",
     "text": [
      "0.375\n",
      "0.6666666666666666\n",
      "1.0\n"
     ]
    }
   ],
   "source": [
    "# Multiplicação\n",
    "# Frações\n",
    "print((1/2) * (3/4)) # 0.375\n",
    "\n",
    "#Divisão\n",
    "# Frações\n",
    "print((1/2) / (3/4)) # 0.6666666666666666\n",
    "\n",
    "#Soma e Subtração com Denominador comum\n",
    "# Fraçoes\n",
    "print((1/4) + (3/4))  # 1.0\n",
    "\n"
   ]
  },
  {
   "cell_type": "markdown",
   "id": "c0eb8b34",
   "metadata": {},
   "source": [
    "## Operações com Vetores"
   ]
  },
  {
   "cell_type": "markdown",
   "id": "9eeb81ec",
   "metadata": {},
   "source": [
    "### Operações com Vetores - Adição e Subtração"
   ]
  },
  {
   "cell_type": "code",
   "execution_count": 39,
   "id": "9f5d292a",
   "metadata": {},
   "outputs": [],
   "source": [
    "# Definindo dois vetores como listas\n",
    "vetor_a = [3, 4, 5]\n",
    "vetor_b = [1, 2, 3]"
   ]
  },
  {
   "cell_type": "code",
   "execution_count": null,
   "id": "6e0e799c",
   "metadata": {},
   "outputs": [],
   "source": [
    "# Função para adição de vetores\n",
    "def adicionar_vetores(a, b):\n",
    "    return [a[i] + b[i] for i in range(len(a))] # list comprehension para somar os elementos correspondentes dos vetores\n",
    "\n",
    "# Função para subtração de vetores\n",
    "def subtrair_vetores(a, b):\n",
    "    return [a[i] - b[i] for i in range(len(a))]"
   ]
  },
  {
   "cell_type": "code",
   "execution_count": 43,
   "id": "1e1aa154",
   "metadata": {},
   "outputs": [
    {
     "name": "stdout",
     "output_type": "stream",
     "text": [
      "Vetor A: [3, 4, 5]\n",
      "Vetor B: [1, 2, 3]\n",
      "Soma dos vetores: [4, 6, 8]\n",
      "Diferença dos vetores: [2, 2, 2]\n"
     ]
    }
   ],
   "source": [
    "# Realizando as operações\n",
    "vetor_soma = adicionar_vetores(vetor_a, vetor_b)\n",
    "vetor_diferenca = subtrair_vetores(vetor_a, vetor_b)\n",
    "\n",
    "# Exibindo os resultados\n",
    "print(\"Vetor A:\", vetor_a)  # Vetor A: [3, 4, 5]\n",
    "print(\"Vetor B:\", vetor_b)  # Vetor B: [1, 2, 3]\n",
    "print(\"Soma dos vetores:\", vetor_soma)  # Soma dos vetores: [4, 6, 8]\n",
    "print(\"Diferença dos vetores:\", vetor_diferenca)  # Diferença dos vetores: [2, 2, 2]"
   ]
  },
  {
   "cell_type": "markdown",
   "id": "5ff5ac89",
   "metadata": {},
   "source": [
    "### Operações com Vetores - Cross Product (Produto Vetorial)\n",
    "- O produto vetorial entre dois vetores resulta em um terceiro vetor que perpendicular aos dois vertores originais"
   ]
  },
  {
   "cell_type": "code",
   "execution_count": 64,
   "id": "138ed9c9",
   "metadata": {},
   "outputs": [
    {
     "name": "stdout",
     "output_type": "stream",
     "text": [
      "Vetor X: (v1[-3] * v2[6]) - (v1[1] * v2[7]) = -25\n",
      "Vetor Y: (v1[1] * v2[5]) - (v1[2] * v2[6]) = -7\n",
      "Vetor Z: (v1[2] * v2[7]) - (v1[-3] * v2[5]) = 29\n",
      "Produto vetorial: [-25, -7, 29]\n"
     ]
    }
   ],
   "source": [
    "# Função para calcular o produto vetorial entre dois vetores\n",
    "# x = (ay*bz) - (az*by)\n",
    "# y = (az*bx) - (ax*bz)\n",
    "# z = (ax*by) - (ay*bx)\n",
    "\n",
    "def produto_vetorial(v1, v2):\n",
    "    x = v1[1] * v2[2] - v1[2] * v2[1]\n",
    "    y = v1[2] * v2[0] - v1[0] * v2[2]\n",
    "    z = v1[0] * v2[1] - v1[1] * v2[0]\n",
    "    return [x, y, z]\n",
    "\n",
    "# Criar vetores de exemplo\n",
    "vetor_a = [2, -3, 1]\n",
    "vetor_b = [5, 7, 6]\n",
    "\n",
    "vetor_x = (vetor_a[1] * vetor_b[2]) - (vetor_a[2] * vetor_b[1])\n",
    "print(f\"Vetor X: (v1[{vetor_a[1]}] * v2[{vetor_b[2]}]) - (v1[{vetor_a[2]}] * v2[{vetor_b[1]}]) =\", vetor_x)  # Vetor X: -25\n",
    "\n",
    "vetor_y = (vetor_a[2] * vetor_b[0]) - (vetor_a[0] * vetor_b[2])\n",
    "print(f\"Vetor Y: (v1[{vetor_a[2]}] * v2[{vetor_b[0]}]) - (v1[{vetor_a[0]}] * v2[{vetor_b[2]}]) =\", vetor_y)  # Vetor Y: -7\n",
    "\n",
    "vetor_z = (vetor_a[0] * vetor_b[1]) - (vetor_a[1] * vetor_b[0])\n",
    "print(f\"Vetor Z: (v1[{vetor_a[0]}] * v2[{vetor_b[1]}]) - (v1[{vetor_a[1]}] * v2[{vetor_b[0]}]) =\", vetor_z)  # Vetor Z: 29\n",
    "\n",
    "# Calculando o produto vetorial \n",
    "resultado = produto_vetorial(vetor_a, vetor_b)\n",
    "print(\"Produto vetorial:\", resultado)  # Produto vetorial: [-25, -7, 29]"
   ]
  },
  {
   "cell_type": "markdown",
   "id": "a2296fe5",
   "metadata": {},
   "source": [
    "### Operações com Vetores - Dot Product (Produto Escalar)\n",
    "- O produto escalar de dois vetores é uma operação que resulta em um escalar (um número). Matemáticamente, é a soma dos produtos dos componentes correspondetes dos vetores."
   ]
  },
  {
   "cell_type": "code",
   "execution_count": 66,
   "id": "3c7f306c",
   "metadata": {},
   "outputs": [
    {
     "name": "stdout",
     "output_type": "stream",
     "text": [
      "Produto escalar: (v1[2] * v2[5]) + (v1[-3] * v2[7]) + (v1[1] * v2[6]) = -5\n",
      "Produto escalar: -5\n"
     ]
    }
   ],
   "source": [
    "# Função para calcular o produto escalar\n",
    "# # O produto escalar é a soma dos produtos dos componentes correspondentes dos vetores\n",
    "# a * b = |a| * |b| * cos(θ) => Onde |a| e |b| são os módulos dos vetores e θ é o ângulo entre eles.\n",
    "# O produto escalar é uma operação que resulta em um número (escalar) e é definido como a soma dos produtos dos componentes correspondentes de dois vetores.\n",
    "# Em termos matemáticos, para dois vetores v1 = [v1x, v1y, v1z] e v2 = [v2x, v2y, v2z], o produto escalar é dado por:\n",
    "# a * b = (ax * bx) + (ay * by)\n",
    "\n",
    "def produto_escalar(v1, v2):\n",
    "    return sum(a * b for a, b in zip(v1, v2)) # zip combina os elementos dos dois vetores em pares\n",
    "\n",
    "# Criar vetores de exemplo\n",
    "vetor_a = [2, -3, 1]\n",
    "vetor_b = [5, 7, 6]\n",
    "\n",
    "va_x_vb = (vetor_a[0] * vetor_b[0]) + (vetor_a[1] * vetor_b[1] + (vetor_a[2] * vetor_b[2]))\n",
    "print(f\"Produto escalar: (v1[{vetor_a[0]}] * v2[{vetor_b[0]}]) + (v1[{vetor_a[1]}] * v2[{vetor_b[1]}]) + (v1[{vetor_a[2]}] * v2[{vetor_b[2]}]) =\", va_x_vb)  # Produto escalar: 5\n",
    "\n",
    "\n",
    "# Calculando o produto escalar\n",
    "resultado_escalar = produto_escalar(vetor_a, vetor_b)\n",
    "print(\"Produto escalar:\", resultado_escalar)  # Produto escalar: -5"
   ]
  },
  {
   "cell_type": "markdown",
   "id": "9307a6d5",
   "metadata": {},
   "source": [
    "## Algorítimo de Machine Learning"
   ]
  },
  {
   "cell_type": "markdown",
   "id": "cb5579af",
   "metadata": {},
   "source": [
    "### Machine Learning apenas com Operações Matemáticas (Sem uso de Frameworks)\n",
    "- Vamos criar um modelo capaz de prever o preço de um ativo financeiro com taxa nominal de juros"
   ]
  },
  {
   "cell_type": "code",
   "execution_count": 68,
   "id": "861723de",
   "metadata": {},
   "outputs": [],
   "source": [
    "# Gerando dados sintéticos para análise\n",
    "import numpy as np\n",
    "\n",
    "np.random.seed(0) # Definindo a semente para reprodutibilidade\n",
    "X = np.random.randint(1, 10, size = (100, 1)) # 100 instâncias, valores entre 1 e 10\n",
    "y = 50000 + 30000 * X + np.random.randn(100, 1) * 15000 # Relação linear: preço base + preço por ativo + ruido"
   ]
  },
  {
   "cell_type": "code",
   "execution_count": 77,
   "id": "31f8c114",
   "metadata": {},
   "outputs": [
    {
     "data": {
      "text/plain": [
       "array([[1],\n",
       "       [4],\n",
       "       [4],\n",
       "       [8]], dtype=int32)"
      ]
     },
     "execution_count": 77,
     "metadata": {},
     "output_type": "execute_result"
    }
   ],
   "source": [
    "# Visualizando os dados\n",
    "X[1:5]  # Exibindo as primeiras 5 instâncias de X"
   ]
  },
  {
   "cell_type": "code",
   "execution_count": 78,
   "id": "a5ee702d",
   "metadata": {},
   "outputs": [
    {
     "data": {
      "text/plain": [
       "array([[ 85385.04146705],\n",
       "       [186141.81556278],\n",
       "       [172882.11251578],\n",
       "       [302793.88936252]])"
      ]
     },
     "execution_count": 78,
     "metadata": {},
     "output_type": "execute_result"
    }
   ],
   "source": [
    "# Visualizando os dados\n",
    "y[1:5]  # Exibindo as primeiras 5 instâncias de y"
   ]
  },
  {
   "cell_type": "code",
   "execution_count": 79,
   "id": "66195f4a",
   "metadata": {},
   "outputs": [
    {
     "data": {
      "text/plain": [
       "array([[1., 1.],\n",
       "       [1., 4.],\n",
       "       [1., 4.],\n",
       "       [1., 8.]])"
      ]
     },
     "execution_count": 79,
     "metadata": {},
     "output_type": "execute_result"
    }
   ],
   "source": [
    "# Adicionar coluna de uns para o termo de interceptação\n",
    "X_b = np.c_[np.ones((100, 1)), X] # Adiciona x0 = 1 a cada instância\n",
    "X_b[1:5]  # Exibindo as primeiras 5 instâncias de X_b"
   ]
  },
  {
   "cell_type": "markdown",
   "id": "71c5eef7",
   "metadata": {},
   "source": [
    "##### Função de Custo MSE com Operações Entre Vetores\n",
    "- Esta função compute_cost é uma implementação da função de custo de erro quadrático médio, que é amplamente usada em regressão linear. O objetivo dessa função é medir quão bem o modelo de regressão (representado pelos parâmetros theta) está desempenhando em relação ao conjunto de dados (X e y). Um custo mais baixo indica que o modelo está fazendo previsões mais precisas."
   ]
  },
  {
   "cell_type": "code",
   "execution_count": 80,
   "id": "1d2b258b",
   "metadata": {},
   "outputs": [],
   "source": [
    "# Função de custo MSE (Mean Squared Error) com operações entre vetores\n",
    "def custo_mse(X, y, theta): # theta são os parâmetros do modelo, onde theta[0] é o intercepto e theta[1] é o coeficiente angular, matriz de pesos\n",
    "    # m é o número de exemplos de treinamento (observações) no conjunto de dados\n",
    "    m = len(y)\n",
    "    \n",
    "    # Calcula a função de custo para regressão linear\n",
    "    # A função de custo é a média dos erros quadráticos entre as previsões e os valores reais\n",
    "    # (1/(2*m)) é um fator de escla comum na função de custo do erro quadrático médio\n",
    "    # np.sum(np.square(X.dot(theta) - y)) é a soma dos quadrados dos erros\n",
    "    # X.dot(theta) é o produto esalar de X (dados de entrada) e theta (parâmetros do modelo)\n",
    "    # X.dot(theta) - y é a diferença entre as previsões e os valores reais\n",
    "    cost = (1 / (2 * m)) * np.sum(np.square(X.dot(theta) - y)) # square calcula o quadrado dos elementos do array resultante da subtração\n",
    "    \n",
    "    return cost\n",
    "    "
   ]
  },
  {
   "cell_type": "markdown",
   "id": "a8fe8225",
   "metadata": {},
   "source": [
    "##### Algoritmo Gradiente Descendente com Operações Entre Vetores"
   ]
  },
  {
   "cell_type": "code",
   "execution_count": 84,
   "id": "c066c6bc",
   "metadata": {},
   "outputs": [],
   "source": [
    "# Gradiente descendente para encontrar os parâmetros ótimos\n",
    "def gradient_descent(X, y, theta, learning_rate, iterations):\n",
    "    \n",
    "    # m é o número de exemplos de treinamento (observações) no conjunto de dados\n",
    "    m = len(y)\n",
    "    \n",
    "    # Inicializa um array para armazenar o histórico do custo em cada iteração\n",
    "    cost_history = np.zeros(iterations)\n",
    "    \n",
    "    # Loop para realizar o número especificado de iterações\n",
    "    for i in range(iterations):\n",
    "        \n",
    "        # Calcula o gradiente da função de custo em relação aos parâmetros theta\n",
    "        # O gradiente é a média dos produtos dos erros e as características de entrada\n",
    "        gradients = (1 / m) * X.T.dot(X.dot(theta) - y)  # X.T é a transposta de X, dot é o produto escalar\n",
    "        \n",
    "        # Atualiza os parâmetros theta subtraindo o produto da taxa de aprendizado e o gradiente\n",
    "        # Esta é a regra de descida do gradiente, movendo-se em direção o mínimo da função de custo\n",
    "        theta -= learning_rate * gradients\n",
    "        \n",
    "        # Calcula o custo com o theta atualizado e armazena no histórico de custo\n",
    "        cost_history[i] = custo_mse(X, y, theta)\n",
    "        \n",
    "    # Retorna os parâmetros theta otimizados e o histórico de custo\n",
    "    return theta, cost_history"
   ]
  },
  {
   "cell_type": "markdown",
   "id": "8cad53d5",
   "metadata": {},
   "source": [
    "##### Treinamento do Modelo"
   ]
  },
  {
   "cell_type": "code",
   "execution_count": 81,
   "id": "8c94421d",
   "metadata": {},
   "outputs": [],
   "source": [
    "# Parâmetros iniciais\n",
    "\n",
    "# inicializa os parâmetros randomicamente\n",
    "theta = np.random.randn(2, 1)  # Dois parâmetros: intercepto e coeficiente angular\n",
    "learning_rate = 0.01  # Taxa de aprendizado\n",
    "iterations = 1000  # Número de passadas de treino"
   ]
  },
  {
   "cell_type": "code",
   "execution_count": 90,
   "id": "20585651",
   "metadata": {},
   "outputs": [
    {
     "name": "stdout",
     "output_type": "stream",
     "text": [
      "Modeo de ML - Parâmetros finais:\n",
      " [[49418.96]\n",
      " [30250.85]]\n"
     ]
    }
   ],
   "source": [
    "#Treinando o modelo\n",
    "theta_final, cost_history = gradient_descent(X_b, y, theta, learning_rate, iterations)\n",
    "print(f\"Modeo de ML - Parâmetros finais:\\n {np.round(theta_final, 2)}\")  # Exibindo os parâmetros finais do modelo"
   ]
  },
  {
   "cell_type": "markdown",
   "id": "6190109a",
   "metadata": {},
   "source": [
    "##### Deploy e previsão com novos dados"
   ]
  },
  {
   "cell_type": "code",
   "execution_count": 88,
   "id": "ebfecb60",
   "metadata": {},
   "outputs": [
    {
     "name": "stdout",
     "output_type": "stream",
     "text": [
      "Com base na taxa de juros nominal, a previsão do preço do ativo é:\n",
      " [[185530.04]]\n"
     ]
    }
   ],
   "source": [
    "# Novo valor de X\n",
    "X_new = np.array([[4.5]])\n",
    "\n",
    "# Novo valor de bias\n",
    "X_new_b = np.c_[np.ones((1, 1)), X_new]  # Adiciona x0 = 1 para o novo valor de X\n",
    "\n",
    "#Previsão\n",
    "y_predict = X_new_b.dot(theta_final)  # Calcula a previsão usando os parâmetros finais do modelo\n",
    "print(f\"Com base na taxa de juros nominal, a previsão do preço do ativo é:\\n {np.round(y_predict, 2)}\")  # Exibindo a previsão arredondada para duas casas decimais"
   ]
  },
  {
   "cell_type": "code",
   "execution_count": 91,
   "id": "86288120",
   "metadata": {},
   "outputs": [
    {
     "name": "stdout",
     "output_type": "stream",
     "text": [
      "Author: LFernandes\n",
      "\n",
      "Python implementation: CPython\n",
      "Python version       : 3.12.6\n",
      "IPython version      : 9.2.0\n",
      "\n",
      "Compiler    : MSC v.1940 64 bit (AMD64)\n",
      "OS          : Windows\n",
      "Release     : 11\n",
      "Machine     : AMD64\n",
      "Processor   : AMD64 Family 25 Model 33 Stepping 0, AuthenticAMD\n",
      "CPU cores   : 12\n",
      "Architecture: 64bit\n",
      "\n"
     ]
    }
   ],
   "source": [
    "%reload_ext watermark\n",
    "%watermark -a \"LFernandes\" -v -m"
   ]
  },
  {
   "cell_type": "code",
   "execution_count": 92,
   "id": "95d58bb2",
   "metadata": {},
   "outputs": [
    {
     "name": "stdout",
     "output_type": "stream",
     "text": [
      "numpy: 2.2.6\n",
      "\n"
     ]
    }
   ],
   "source": [
    "%watermark --iversions"
   ]
  }
 ],
 "metadata": {
  "kernelspec": {
   "display_name": ".venv (3.12.6)",
   "language": "python",
   "name": "python3"
  },
  "language_info": {
   "codemirror_mode": {
    "name": "ipython",
    "version": 3
   },
   "file_extension": ".py",
   "mimetype": "text/x-python",
   "name": "python",
   "nbconvert_exporter": "python",
   "pygments_lexer": "ipython3",
   "version": "3.12.6"
  }
 },
 "nbformat": 4,
 "nbformat_minor": 5
}
