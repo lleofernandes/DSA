{
 "cells": [
  {
   "cell_type": "markdown",
   "id": "1522cf25",
   "metadata": {},
   "source": [
    "## Regras Básicas da Álgebra, Operações com Vetores e Algorítmo de Machine Learning"
   ]
  },
  {
   "cell_type": "markdown",
   "id": "313f803d",
   "metadata": {},
   "source": [
    "### Regras Básicas de Álgebra"
   ]
  },
  {
   "cell_type": "markdown",
   "id": "61fce3dc",
   "metadata": {},
   "source": [
    "##### | Propriedades da Igualdade"
   ]
  },
  {
   "cell_type": "code",
   "execution_count": 1,
   "id": "bb5e738f",
   "metadata": {},
   "outputs": [
    {
     "name": "stdout",
     "output_type": "stream",
     "text": [
      "True\n"
     ]
    }
   ],
   "source": [
    "# Reflexiva\n",
    "# Qualquer número ou expressão é igual a si mesmo\n",
    "a = 5\n",
    "print(a == a)  # True"
   ]
  },
  {
   "cell_type": "code",
   "execution_count": 2,
   "id": "e38d527b",
   "metadata": {},
   "outputs": [
    {
     "name": "stdout",
     "output_type": "stream",
     "text": [
      "True\n",
      "True\n"
     ]
    }
   ],
   "source": [
    "# Simétrica\n",
    "# Se A é igual a B, então B é igual a A\n",
    "a = 5\n",
    "b = 5\n",
    "print(a == b)  # True\n",
    "print(b == a)  # True"
   ]
  },
  {
   "cell_type": "code",
   "execution_count": 3,
   "id": "ee7c0557",
   "metadata": {},
   "outputs": [
    {
     "name": "stdout",
     "output_type": "stream",
     "text": [
      "True\n",
      "True\n"
     ]
    }
   ],
   "source": [
    "# Transitiva\n",
    "# Se A é igual a B e B é igual a C, então A é igual a C\n",
    "a = 5\n",
    "b = 5\n",
    "c = 5\n",
    "print(a == b and b == c)  # True\n",
    "print(a == c)  # True"
   ]
  },
  {
   "cell_type": "markdown",
   "id": "91b7e508",
   "metadata": {},
   "source": [
    "##### | Propriedades das Operações"
   ]
  },
  {
   "cell_type": "code",
   "execution_count": 12,
   "id": "d4cb0bc2",
   "metadata": {},
   "outputs": [
    {
     "name": "stdout",
     "output_type": "stream",
     "text": [
      "True\n",
      "True\n"
     ]
    }
   ],
   "source": [
    "# Comutativa (adição e multiplicação)\n",
    "# A ordem dos números não altera o resultado\n",
    "a = 3\n",
    "b = 4\n",
    "print(a + b == b + a)  # True\n",
    "print(a * b == b * a)  # True"
   ]
  },
  {
   "cell_type": "code",
   "execution_count": null,
   "id": "62b2b310",
   "metadata": {},
   "outputs": [
    {
     "name": "stdout",
     "output_type": "stream",
     "text": [
      "True\n",
      "True\n"
     ]
    }
   ],
   "source": [
    "# Associativa (adição e multiplicação)\n",
    "# A forma como os números são agrupados não altera a soma ou o produto\n",
    "a = 3\n",
    "b = 4\n",
    "c = 5 \n",
    "print((a + b) + c == a + (b + c))  # True\n",
    "print((a * b) * c == a * (b * c))  # True"
   ]
  },
  {
   "cell_type": "code",
   "execution_count": 2,
   "id": "62aeeb4e",
   "metadata": {},
   "outputs": [
    {
     "name": "stdout",
     "output_type": "stream",
     "text": [
      "True\n"
     ]
    }
   ],
   "source": [
    "# Distributiva (multiplicação sobre adição)\n",
    "# A multiplicação distribui sobre a adição\n",
    "a = 3\n",
    "b = 4\n",
    "c = 5 \n",
    "print(a * (b + c) == (a * b) + (a * c))  # True"
   ]
  },
  {
   "cell_type": "markdown",
   "id": "50af5f2c",
   "metadata": {},
   "source": [
    "##### | Elementos Neutros e Inversos"
   ]
  },
  {
   "cell_type": "code",
   "execution_count": null,
   "id": "acb3878e",
   "metadata": {},
   "outputs": [
    {
     "name": "stdout",
     "output_type": "stream",
     "text": [
      "True\n",
      "True\n"
     ]
    }
   ],
   "source": [
    "# Elemento Neutro da Adição e Multiplicação\n",
    "# O elemento neutro da adição é 0 e da multiplicação é 1\n",
    "a = 5\n",
    "print(a + 0 == a)  # True\n",
    "print(a * 1 == a)  # True"
   ]
  },
  {
   "cell_type": "code",
   "execution_count": 6,
   "id": "1aa80d05",
   "metadata": {},
   "outputs": [
    {
     "name": "stdout",
     "output_type": "stream",
     "text": [
      "True\n",
      "True\n"
     ]
    }
   ],
   "source": [
    "# Inverso do Aditivo e Multiplicativo\n",
    "# O inverso aditivo de A é -A e o inverso multiplicativo é 1/A (desde que A != 0)\n",
    "a = 5\n",
    "print(a + (-a) == 0)  # True\n",
    "print(a * (1/a) == 1)  # True, desde que a != 0 "
   ]
  },
  {
   "cell_type": "markdown",
   "id": "d560d879",
   "metadata": {},
   "source": [
    "##### | Regras de Exponenciação"
   ]
  },
  {
   "cell_type": "code",
   "execution_count": 7,
   "id": "a85af8f9",
   "metadata": {},
   "outputs": [
    {
     "name": "stdout",
     "output_type": "stream",
     "text": [
      "True\n"
     ]
    }
   ],
   "source": [
    "#Produto de mesma base\n",
    "# A multiplicação de números com a mesma base é igual à base elevada à soma dos expoentes\n",
    "print(2**3 * 2**4 == 2**(3 + 4))  # True"
   ]
  },
  {
   "cell_type": "code",
   "execution_count": 8,
   "id": "2d945147",
   "metadata": {},
   "outputs": [
    {
     "name": "stdout",
     "output_type": "stream",
     "text": [
      "True\n"
     ]
    }
   ],
   "source": [
    "# Divisão de mesma base\n",
    "# A divisão de números com a mesma base é igual à base elevada à diferença dos expoentes\n",
    "print(2**5 / 2**3 == 2**(5 - 3))  # True"
   ]
  },
  {
   "cell_type": "code",
   "execution_count": 9,
   "id": "08ed647c",
   "metadata": {},
   "outputs": [
    {
     "name": "stdout",
     "output_type": "stream",
     "text": [
      "True\n"
     ]
    }
   ],
   "source": [
    "# Potência de potência\n",
    "# A potência de uma potência é igual à base elevada ao produto dos expoentes\n",
    "print((2**3)**2 == 2**(3 * 2))  # True"
   ]
  },
  {
   "cell_type": "code",
   "execution_count": 10,
   "id": "30442eef",
   "metadata": {},
   "outputs": [
    {
     "name": "stdout",
     "output_type": "stream",
     "text": [
      "True\n"
     ]
    }
   ],
   "source": [
    "# Potência de produto\n",
    "# A potência de um produto é igual ao produto das potências\n",
    "print((2 * 3)**2 == (2**2) * (3**2))  # True"
   ]
  },
  {
   "cell_type": "code",
   "execution_count": 11,
   "id": "74dc46b9",
   "metadata": {},
   "outputs": [
    {
     "name": "stdout",
     "output_type": "stream",
     "text": [
      "True\n"
     ]
    }
   ],
   "source": [
    "# Expoente zero\n",
    "# Qualquer número elevado a zero é igual a 1 (exceto zero elevado a zero, que é indeterminado)\n",
    "print(5**0 == 1)  # True"
   ]
  },
  {
   "cell_type": "markdown",
   "id": "def516c7",
   "metadata": {},
   "source": [
    "##### | Regras de Radicais"
   ]
  },
  {
   "cell_type": "code",
   "execution_count": 35,
   "id": "e19af72f",
   "metadata": {},
   "outputs": [
    {
     "name": "stdout",
     "output_type": "stream",
     "text": [
      "False\n",
      "4.0\n",
      "4.000000000000001\n",
      "Round 4.0 == 4.0: True\n",
      "Round sqrt: True\n",
      "True\n"
     ]
    }
   ],
   "source": [
    "# Raiz de um Produto ** Atenção ao calculo de ponto flutuante \n",
    "# A raiz de um produto é igual ao produto das raízes\n",
    "import math\n",
    "print(math.sqrt(2 * 8) == math.sqrt(2) * math.sqrt(8))  # True\n",
    "\n",
    "# Vamos adicionar tolerância ao calculo de ponto flutuante\n",
    "a = math.sqrt(2 * 8)\n",
    "b = math.sqrt(2) * math.sqrt(8)\n",
    "tolerance = 1e-10\n",
    "\n",
    "print(a)\n",
    "print(b)\n",
    "print(f\"Round {round(a, 0)} == {round(b, 0)}: {round(a, 0) == round(b, 0)}\") # True, arredondando para o inteiro mais próximo\n",
    "print(f\"Round sqrt: {round(math.sqrt(2 * 8)) == round(math.sqrt(2) * math.sqrt(8))}\")  # True\n",
    "print(abs(a - b) < tolerance)  # True, considerando a tolerância"
   ]
  },
  {
   "cell_type": "code",
   "execution_count": 15,
   "id": "efc9a1fc",
   "metadata": {},
   "outputs": [
    {
     "name": "stdout",
     "output_type": "stream",
     "text": [
      "True\n"
     ]
    }
   ],
   "source": [
    "# Raiz de um Quociente\n",
    "# A raiz de um quociente é igual ao quociente das raízes\n",
    "print(math.sqrt(16 / 4) == math.sqrt(16) / math.sqrt(4))  # True"
   ]
  },
  {
   "cell_type": "markdown",
   "id": "9473b5ea",
   "metadata": {},
   "source": [
    "##### | Regras de Polinômios (Adição e Subtração de Termos Semelhantes)"
   ]
  },
  {
   "cell_type": "code",
   "execution_count": 36,
   "id": "b66e535a",
   "metadata": {},
   "outputs": [
    {
     "name": "stdout",
     "output_type": "stream",
     "text": [
      "27\n"
     ]
    }
   ],
   "source": [
    "# Regras de polinômios (Adição e Subtração de termos semelhantes)\n",
    "# A adição e subtração de polinômios envolve combinar termos semelhantes\n",
    "\n",
    "# Polinômios: 2x^2 + 3x + 4 e 3x^2 - 2x + 1\n",
    "# Adição: (2x^2 + 3x^2) + (3x - 2x) + (4 + 1)\n",
    "# Subtração: (2x^2 - 3x^2) + (3x + 2x) + (4 - 1)\n",
    "\n",
    "# Variável\n",
    "x = 2\n",
    "\n",
    "# Calcula a adiçõ dos polinômios\n",
    "print((2*x**2 + 3*x**2) + (3*x - 2*x) + (4 + 1))  # 7*x**2 + x + 5"
   ]
  },
  {
   "cell_type": "markdown",
   "id": "c342618d",
   "metadata": {},
   "source": [
    "##### | Regras de Frações"
   ]
  },
  {
   "cell_type": "code",
   "execution_count": 37,
   "id": "43b6ff2e",
   "metadata": {},
   "outputs": [
    {
     "name": "stdout",
     "output_type": "stream",
     "text": [
      "0.375\n",
      "0.6666666666666666\n",
      "1.0\n"
     ]
    }
   ],
   "source": [
    "# Multiplicação\n",
    "# Frações\n",
    "print((1/2) * (3/4)) # 0.375\n",
    "\n",
    "#Divisão\n",
    "# Frações\n",
    "print((1/2) / (3/4)) # 0.6666666666666666\n",
    "\n",
    "#Soma e Subtração com Denominador comum\n",
    "# Fraçoes\n",
    "print((1/4) + (3/4))  # 1.0\n",
    "\n"
   ]
  },
  {
   "cell_type": "markdown",
   "id": "9eeb81ec",
   "metadata": {},
   "source": [
    "### Operações com Vetores - Adição e Subtração"
   ]
  },
  {
   "cell_type": "code",
   "execution_count": 39,
   "id": "9f5d292a",
   "metadata": {},
   "outputs": [],
   "source": [
    "# Definindo dois vetores como listas\n",
    "vetor_a = [3, 4, 5]\n",
    "vetor_b = [1, 2, 3]"
   ]
  },
  {
   "cell_type": "code",
   "execution_count": null,
   "id": "6e0e799c",
   "metadata": {},
   "outputs": [],
   "source": [
    "# Função para adição de vetores\n",
    "def adicionar_vetores(a, b):\n",
    "    return [a[i] + b[i] for i in range(len(a))] # list comprehension para somar os elementos correspondentes dos vetores\n",
    "\n",
    "# Função para subtração de vetores\n",
    "def subtrair_vetores(a, b):\n",
    "    return [a[i] - b[i] for i in range(len(a))]"
   ]
  },
  {
   "cell_type": "code",
   "execution_count": 43,
   "id": "1e1aa154",
   "metadata": {},
   "outputs": [
    {
     "name": "stdout",
     "output_type": "stream",
     "text": [
      "Vetor A: [3, 4, 5]\n",
      "Vetor B: [1, 2, 3]\n",
      "Soma dos vetores: [4, 6, 8]\n",
      "Diferença dos vetores: [2, 2, 2]\n"
     ]
    }
   ],
   "source": [
    "# Realizando as operações\n",
    "vetor_soma = adicionar_vetores(vetor_a, vetor_b)\n",
    "vetor_diferenca = subtrair_vetores(vetor_a, vetor_b)\n",
    "\n",
    "# Exibindo os resultados\n",
    "print(\"Vetor A:\", vetor_a)  # Vetor A: [3, 4, 5]\n",
    "print(\"Vetor B:\", vetor_b)  # Vetor B: [1, 2, 3]\n",
    "print(\"Soma dos vetores:\", vetor_soma)  # Soma dos vetores: [4, 6, 8]\n",
    "print(\"Diferença dos vetores:\", vetor_diferenca)  # Diferença dos vetores: [2, 2, 2]"
   ]
  },
  {
   "cell_type": "markdown",
   "id": "5ff5ac89",
   "metadata": {},
   "source": [
    "### Operações com Vetores - Cross Product (Produto Vetorial)\n",
    "- O produto vetorial entre dois vetores resulta em um terceiro vetor que perpendicular aos dois vertores originais"
   ]
  },
  {
   "cell_type": "code",
   "execution_count": 64,
   "id": "138ed9c9",
   "metadata": {},
   "outputs": [
    {
     "name": "stdout",
     "output_type": "stream",
     "text": [
      "Vetor X: (v1[-3] * v2[6]) - (v1[1] * v2[7]) = -25\n",
      "Vetor Y: (v1[1] * v2[5]) - (v1[2] * v2[6]) = -7\n",
      "Vetor Z: (v1[2] * v2[7]) - (v1[-3] * v2[5]) = 29\n",
      "Produto vetorial: [-25, -7, 29]\n"
     ]
    }
   ],
   "source": [
    "# Função para calcular o produto vetorial entre dois vetores\n",
    "# x = (ay*bz) - (az*by)\n",
    "# y = (az*bx) - (ax*bz)\n",
    "# z = (ax*by) - (ay*bx)\n",
    "\n",
    "def produto_vetorial(v1, v2):\n",
    "    x = v1[1] * v2[2] - v1[2] * v2[1]\n",
    "    y = v1[2] * v2[0] - v1[0] * v2[2]\n",
    "    z = v1[0] * v2[1] - v1[1] * v2[0]\n",
    "    return [x, y, z]\n",
    "\n",
    "# Criar vetores de exemplo\n",
    "vetor_a = [2, -3, 1]\n",
    "vetor_b = [5, 7, 6]\n",
    "\n",
    "vetor_x = (vetor_a[1] * vetor_b[2]) - (vetor_a[2] * vetor_b[1])\n",
    "print(f\"Vetor X: (v1[{vetor_a[1]}] * v2[{vetor_b[2]}]) - (v1[{vetor_a[2]}] * v2[{vetor_b[1]}]) =\", vetor_x)  # Vetor X: -25\n",
    "\n",
    "vetor_y = (vetor_a[2] * vetor_b[0]) - (vetor_a[0] * vetor_b[2])\n",
    "print(f\"Vetor Y: (v1[{vetor_a[2]}] * v2[{vetor_b[0]}]) - (v1[{vetor_a[0]}] * v2[{vetor_b[2]}]) =\", vetor_y)  # Vetor Y: -7\n",
    "\n",
    "vetor_z = (vetor_a[0] * vetor_b[1]) - (vetor_a[1] * vetor_b[0])\n",
    "print(f\"Vetor Z: (v1[{vetor_a[0]}] * v2[{vetor_b[1]}]) - (v1[{vetor_a[1]}] * v2[{vetor_b[0]}]) =\", vetor_z)  # Vetor Z: 29\n",
    "\n",
    "# Calculando o produto vetorial \n",
    "resultado = produto_vetorial(vetor_a, vetor_b)\n",
    "print(\"Produto vetorial:\", resultado)  # Produto vetorial: [-25, -7, 29]"
   ]
  },
  {
   "cell_type": "markdown",
   "id": "a2296fe5",
   "metadata": {},
   "source": [
    "### Operações com Vetores - Dot Product (Produto Escalar)\n",
    "- O produto escalar de dois vetores é uma operação que resulta em um escalar (um número). Matemáticamente, é a soma dos produtos dos componentes correspondetes dos vetores."
   ]
  },
  {
   "cell_type": "code",
   "execution_count": 66,
   "id": "3c7f306c",
   "metadata": {},
   "outputs": [
    {
     "name": "stdout",
     "output_type": "stream",
     "text": [
      "Produto escalar: (v1[2] * v2[5]) + (v1[-3] * v2[7]) + (v1[1] * v2[6]) = -5\n",
      "Produto escalar: -5\n"
     ]
    }
   ],
   "source": [
    "# Função para calcular o produto escalar\n",
    "# # O produto escalar é a soma dos produtos dos componentes correspondentes dos vetores\n",
    "# a * b = |a| * |b| * cos(θ) => Onde |a| e |b| são os módulos dos vetores e θ é o ângulo entre eles.\n",
    "# O produto escalar é uma operação que resulta em um número (escalar) e é definido como a soma dos produtos dos componentes correspondentes de dois vetores.\n",
    "# Em termos matemáticos, para dois vetores v1 = [v1x, v1y, v1z] e v2 = [v2x, v2y, v2z], o produto escalar é dado por:\n",
    "# a * b = (ax * bx) + (ay * by)\n",
    "\n",
    "def produto_escalar(v1, v2):\n",
    "    return sum(a * b for a, b in zip(v1, v2)) # zip combina os elementos dos dois vetores em pares\n",
    "\n",
    "# Criar vetores de exemplo\n",
    "vetor_a = [2, -3, 1]\n",
    "vetor_b = [5, 7, 6]\n",
    "\n",
    "va_x_vb = (vetor_a[0] * vetor_b[0]) + (vetor_a[1] * vetor_b[1] + (vetor_a[2] * vetor_b[2]))\n",
    "print(f\"Produto escalar: (v1[{vetor_a[0]}] * v2[{vetor_b[0]}]) + (v1[{vetor_a[1]}] * v2[{vetor_b[1]}]) + (v1[{vetor_a[2]}] * v2[{vetor_b[2]}]) =\", va_x_vb)  # Produto escalar: 5\n",
    "\n",
    "\n",
    "# Calculando o produto escalar\n",
    "resultado_escalar = produto_escalar(vetor_a, vetor_b)\n",
    "print(\"Produto escalar:\", resultado_escalar)  # Produto escalar: -5"
   ]
  },
  {
   "cell_type": "code",
   "execution_count": null,
   "id": "861723de",
   "metadata": {},
   "outputs": [],
   "source": []
  }
 ],
 "metadata": {
  "kernelspec": {
   "display_name": ".venv",
   "language": "python",
   "name": "python3"
  },
  "language_info": {
   "codemirror_mode": {
    "name": "ipython",
    "version": 3
   },
   "file_extension": ".py",
   "mimetype": "text/x-python",
   "name": "python",
   "nbconvert_exporter": "python",
   "pygments_lexer": "ipython3",
   "version": "3.12.6"
  }
 },
 "nbformat": 4,
 "nbformat_minor": 5
}
