{
 "cells": [
  {
   "cell_type": "markdown",
   "id": "08bb796f",
   "metadata": {},
   "source": [
    "### Exercício 1: Soma de Vetores \n",
    "- Descrição: Escreva uma função em Python que some dois vetores. Suponha que os vetores têm o mesmo tamanho."
   ]
  },
  {
   "cell_type": "code",
   "execution_count": 13,
   "id": "13fecea2",
   "metadata": {},
   "outputs": [
    {
     "name": "stdout",
     "output_type": "stream",
     "text": [
      "Vetor 1: [1, 3, 5, 7]\n",
      "Vetor 2: [2, 4, 6, 8]\n",
      "Soma dos vetores: [3, 7, 11, 15]\n"
     ]
    }
   ],
   "source": [
    "v1 = [1, 3, 5, 7]\n",
    "v2 = [2, 4, 6, 8]\n",
    "\n",
    "def sum_vectors(x, y):\n",
    "    if len(x) != len(y):\n",
    "        raise ValueError(\"Os vetores devem ter o mesmo tamanho.\")\n",
    "    \n",
    "    return [x[i] + y[i] for i in range(len(x))]\n",
    "\n",
    "v_sum = sum_vectors(v1, v2)\n",
    "\n",
    "\n",
    "# Exibindo os resultados\n",
    "print(\"Vetor 1:\", v1)\n",
    "print(\"Vetor 2:\", v2)  \n",
    "print(f\"Soma dos vetores: {v_sum}\")"
   ]
  },
  {
   "cell_type": "code",
   "execution_count": 14,
   "id": "c3b17700",
   "metadata": {},
   "outputs": [
    {
     "name": "stdout",
     "output_type": "stream",
     "text": [
      "Soma dos vetores: [3, 7, 11, 15]\n"
     ]
    }
   ],
   "source": [
    "#solucão 2 \n",
    "def add_vectors(vector1, vector2):\n",
    "    \"\"\"\n",
    "    Essa função realização a adição de dois vetores, elemento por elemento.\n",
    "    \n",
    "    Arguments: \n",
    "    vector1 (list): Primeiro vetor a ser adicionado.\n",
    "    vector2 (list): Segundo vetor a ser adicionado.\n",
    "    \n",
    "    Returns:\n",
    "    list: O valor resultante da soma dos dois vetores.\n",
    "    \n",
    "    \"\"\"\n",
    "    \n",
    "    result_vector = []\n",
    "    #loop\n",
    "    for i in range(len(vector1)):\n",
    "        result_vector.append(vector1[i] + vector2[i])\n",
    "    return result_vector\n",
    "\n",
    "# Exemplo de uso da função add_vectors\n",
    "vector_a = [1, 3, 5, 7]\n",
    "vector_b = [2, 4, 6, 8]\n",
    "\n",
    "vector_sum = add_vectors(vector_a, vector_b)\n",
    "print(f\"Soma dos vetores: {vector_sum}\")\n"
   ]
  },
  {
   "cell_type": "markdown",
   "id": "1ce8ff64",
   "metadata": {},
   "source": [
    "### Exercício 2: Produto Escalar \n",
    "- Descrição: Implemente uma função que calcule o produto escalar entre dois vetores. "
   ]
  },
  {
   "cell_type": "code",
   "execution_count": null,
   "id": "8f5c0449",
   "metadata": {},
   "outputs": [
    {
     "name": "stdout",
     "output_type": "stream",
     "text": [
      "Produto escalar: 100\n"
     ]
    }
   ],
   "source": [
    "# Produto escalar\n",
    "def dot_product(x, y):\n",
    "    if len(x) != len(y):\n",
    "        raise ValueError(\"Os vetores devem ter o mesmo tamanho.\")\n",
    "    \n",
    "    return sum(x * y for x, y in zip(x, y))\n",
    "\n",
    "v_dot = dot_product(v1, v2)\n",
    "\n",
    "# Exibindo o produto escalar\n",
    "print(f\"Produto escalar: {v_dot}\")"
   ]
  },
  {
   "cell_type": "code",
   "execution_count": 19,
   "id": "a97503fb",
   "metadata": {},
   "outputs": [
    {
     "name": "stdout",
     "output_type": "stream",
     "text": [
      "Produto escalar: 100\n"
     ]
    }
   ],
   "source": [
    "def produto_escalar(vetor1, vetor2):\n",
    "    \"\"\"\n",
    "    Essa função realiza o produto escalar de dois vetores.\n",
    "    \n",
    "    Arguments: \n",
    "    vetor1 (list): Primeiro vetor.\n",
    "    vetor2 (list): Segundo vetor.\n",
    "    \n",
    "    Returns:\n",
    "    int: O valor do produto escalar dos dois vetores.\n",
    "    \n",
    "    \"\"\"\n",
    "    result = 0    \n",
    "    for i in range(len(vetor1)):\n",
    "        result += vetor1[i] * vetor2[i]\n",
    "    return result\n",
    "# Exemplo de uso da função produto_escalar\n",
    "vetor_a = [1, 3, 5, 7]\n",
    "vetor_b = [2, 4, 6, 8]\n",
    "produto = produto_escalar(vetor_a, vetor_b)\n",
    "print(f\"Produto escalar: {produto}\")"
   ]
  },
  {
   "cell_type": "markdown",
   "id": "b81df3f7",
   "metadata": {},
   "source": [
    "### Exercício 3: Norma de um Vetor \n",
    "- Descrição: Escreva uma função que calcule a norma (ou comprimento) de um vetor. "
   ]
  },
  {
   "cell_type": "code",
   "execution_count": 16,
   "id": "d00275c6",
   "metadata": {},
   "outputs": [
    {
     "name": "stdout",
     "output_type": "stream",
     "text": [
      "Norma do vetor 1: -96\n"
     ]
    }
   ],
   "source": [
    "# Norma de um vetor\n",
    "def vector_norm(v1, v2):    \n",
    "    return sum(x * y for x, y in zip(v1, v2))\n",
    "\n",
    "# Exemplo de uso da função vector_norm\n",
    "v_a = [1, 3, 5, -7]\n",
    "v_b = [2, -4, -6, 8]\n",
    "\n",
    "\n",
    "# Calculando a norma do vetor 1\n",
    "v_norm = vector_norm(v_a, v_b)\n",
    "# Exibindo a norma do vetor\n",
    "print(f\"Norma do vetor 1: {v_norm}\")"
   ]
  },
  {
   "cell_type": "markdown",
   "id": "dc4857b9",
   "metadata": {},
   "source": [
    "### Exercício 4: Ângulo entre Dois Vetores \n",
    "- Descrição: Implemente uma função que calcule o ângulo (em graus) entre dois vetores. "
   ]
  },
  {
   "cell_type": "code",
   "execution_count": 22,
   "id": "143d98fe",
   "metadata": {},
   "outputs": [
    {
     "name": "stdout",
     "output_type": "stream",
     "text": [
      "Ângulo entre os vetores: 5156.62 graus\n"
     ]
    }
   ],
   "source": [
    "#Angulo entre dois vetores\n",
    "import math\n",
    "def angle_between_vectors(v1, v2):\n",
    "    dot_prod = dot_product(v1, v2)\n",
    "    norm_v1 = math.sqrt(sum(x ** 2 for x in v1))\n",
    "    norm_v2 = math.sqrt(sum(x ** 2 for x in v2))\n",
    "    \n",
    "    if norm_v1 == 0 or norm_v2 == 0:\n",
    "        raise ValueError(\"Os vetores não podem ser nulos.\")\n",
    "    \n",
    "    # Cálculo do cosseno do ângulo\n",
    "    cos_theta = dot_prod / (norm_v1 * norm_v2)\n",
    "    \n",
    "    # Converte o cosse do ângulo para graus\n",
    "    angle = math.acos(cos_theta) * (180 / math.pi)\n",
    "    \n",
    "    # Retorna o ângulo em radianos\n",
    "    if cos_theta < -1 or cos_theta > 1:\n",
    "        raise ValueError(\"Cosseno do ângulo fora do intervalo válido [-1, 1].\")\n",
    "    \n",
    "    return angle\n",
    "\n",
    "# Exemplo de uso da função angle_between_vectors\n",
    "v_a = [1, 0]\n",
    "v_b = [0, 1]\n",
    "angle = angle_between_vectors(v_a, v_b)\n",
    "# Exibindo o ângulo entre os vetores\n",
    "print(f\"Ângulo entre os vetores: {math.degrees(angle):.2f} graus\")"
   ]
  },
  {
   "cell_type": "markdown",
   "id": "2e4781a4",
   "metadata": {},
   "source": [
    "### Exercício 5: Projeção de um Vetor sobre Outro \n",
    "- Descrição: Escreva uma função que encontre a projeção de um vetor sobre outro vetor."
   ]
  },
  {
   "cell_type": "code",
   "execution_count": 24,
   "id": "c460479e",
   "metadata": {},
   "outputs": [
    {
     "name": "stdout",
     "output_type": "stream",
     "text": [
      "Projeção do vetor [3, 4] em [1, 0]: [3.0, 0.0]\n"
     ]
    }
   ],
   "source": [
    "# projeção de um vetor em outro\n",
    "def vector_projection(v1, v2):\n",
    "    \n",
    "    # Calcula o produto escalar entre v1 e v2\n",
    "    dot_prod = sum(a * b for a, b in zip(v1, v2))\n",
    "    \n",
    "    # Calcula a norma ao quadrado de v2\n",
    "    norma_quadrado_v2 = sum(b**2 for b in v2)\n",
    "    \n",
    "    # Calcula o fator de escala para a projeção\n",
    "    scale = dot_prod / norma_quadrado_v2\n",
    "    \n",
    "    # Calcula a projeção de v1 em v2\n",
    "    projection = [scale * b for b in v2]\n",
    "    \n",
    "    return projection\n",
    "\n",
    "# Exemplo de uso da função vector_projection\n",
    "v_a = [3, 4]\n",
    "v_b = [1, 0]\n",
    "# Calculando a projeção de v_a em v_b\n",
    "projection = vector_projection(v_a, v_b)\n",
    "\n",
    "# Exibindo a projeção do vetor\n",
    "print(f\"Projeção do vetor {v_a} em {v_b}: {projection}\")\n",
    "    \n",
    "    "
   ]
  },
  {
   "cell_type": "markdown",
   "id": "ba097bae",
   "metadata": {},
   "source": []
  }
 ],
 "metadata": {
  "kernelspec": {
   "display_name": ".venv",
   "language": "python",
   "name": "python3"
  },
  "language_info": {
   "codemirror_mode": {
    "name": "ipython",
    "version": 3
   },
   "file_extension": ".py",
   "mimetype": "text/x-python",
   "name": "python",
   "nbconvert_exporter": "python",
   "pygments_lexer": "ipython3",
   "version": "3.12.6"
  }
 },
 "nbformat": 4,
 "nbformat_minor": 5
}
