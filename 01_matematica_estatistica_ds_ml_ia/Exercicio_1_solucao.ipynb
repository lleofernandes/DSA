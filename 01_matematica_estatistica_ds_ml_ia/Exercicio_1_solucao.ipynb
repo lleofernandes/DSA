{
 "cells": [
  {
   "cell_type": "markdown",
   "id": "2ecea197",
   "metadata": {},
   "source": []
  },
  {
   "cell_type": "markdown",
   "id": "43eb520c",
   "metadata": {},
   "source": [
    "### Exercício 1: Cálculo de área de um círculo\n",
    "Escreva um programa que calcula área de um círculo. O Usuário deve fornecer o raio e o programa deve retornar a área."
   ]
  },
  {
   "cell_type": "code",
   "execution_count": 1,
   "id": "dfc1c3dc",
   "metadata": {},
   "outputs": [
    {
     "name": "stdout",
     "output_type": "stream",
     "text": [
      "A área do círculo é: 7853.98\n"
     ]
    }
   ],
   "source": [
    "import math\n",
    "\n",
    "def area_circulo(raio):\n",
    "    #Calcula a área de um círculo, usando a fórmula: area = π * raio^2.\n",
    "    # math.pi é uma constante que representa o valor de π (pi).   \n",
    "    return math.pi * raio ** 2\n",
    "\n",
    "# Pede ao usuário para inserir o raio do círculo e converte a entrada para um número de ponto flutuante.\n",
    "raio = float(input(\"Digite o raio do círculo: \"))\n",
    "\n",
    "# Imprime a área do círculo, chamando a função area_circulo com radio fornecido pelo usuário.\n",
    "print(f\"A área do círculo é: {area_circulo(raio):.2f}\")"
   ]
  },
  {
   "cell_type": "markdown",
   "id": "eeca786b",
   "metadata": {},
   "source": [
    "### Exercício 2: Conversão de temperatura \n",
    "Crie uma função que converte a temperatura de Celcius para Fahrenheit e vice-versa. O usuário deve informar a temperatura e a escala de origem:"
   ]
  },
  {
   "cell_type": "code",
   "execution_count": 2,
   "id": "d0f33e0c",
   "metadata": {},
   "outputs": [
    {
     "name": "stdout",
     "output_type": "stream",
     "text": [
      "Temeperatura seleciona foi: 10.0°C\n",
      "A temperatura em Fahrenheit é: 50.00°F\n"
     ]
    }
   ],
   "source": [
    "# Multiplica a temperatura em Celsius por 9/5 e adiciona 32 para converter para Fahrenheit.\n",
    "def celsius_para_fahrenheit(celsius):\n",
    "    return (celsius * 9/5) + 32\n",
    "\n",
    "# Subtrai 32 da temperatura em Fahrenheit e multiplica por 5/9 para converter para Celsius.\n",
    "def fahrenheit_para_celsius(fahrenheit):\n",
    "    return (fahrenheit - 32) * 5/9\n",
    "\n",
    "# solicita ao usuário para inserir uma temperatura em Celsius e converte para Fahrenheit em um número de ponto flutuante.\n",
    "temp = float(input(\"Digite a temperatura em Celsius: \"))\n",
    "\n",
    "# solicita ao usuário para escolher a escala ('C' para Celsius ou 'F' para Fahrenheit) e armazena a entrada em uma variável.\n",
    "escala = input(\"Seleciona a escala (C para Celsius, F para Fahrenheit): \").strip().upper()\n",
    "\n",
    "# Verifica a escala escolhida pelo usuário e converte a temperatura de acordo.\n",
    "if escala.upper() == 'C':\n",
    "    # Se for celsius, converte para Fahrenheit.\n",
    "    fahrenheit = celsius_para_fahrenheit(temp)\n",
    "    print(f\"Temeperatura seleciona foi: {temp}°C\")\n",
    "    print(f\"A temperatura em Fahrenheit é: {fahrenheit:.2f}°F\")\n",
    "    \n",
    "elif escala.upper() == 'F':\n",
    "    # Se for Fahrenheit, converte para Celsius.\n",
    "    celsius = fahrenheit_para_celsius(temp)\n",
    "    print(f\"Temeperatura seleciona foi: {temp}°F\")\n",
    "    print(f\"A temperatura em Celsius é: {celsius:.2f}°C\")\n",
    "\n",
    "else:\n",
    "    # Se a escala não for reconhecida, exibe uma mensagem de erro.\n",
    "    print(\"Escala inválida. Por favor, escolha 'C' para Celsius ou 'F' para Fahrenheit.\")\n",
    "    \n",
    "    "
   ]
  },
  {
   "cell_type": "markdown",
   "id": "762a6cf2",
   "metadata": {},
   "source": [
    "### Exercício 3: Resolver uma equação linear\n",
    "Faça um programa que resolve uma equação linear do tipo ax + b = 0. Os valores de a e b são fornecidos pelo usuário"
   ]
  },
  {
   "cell_type": "code",
   "execution_count": 3,
   "id": "84db5b1a",
   "metadata": {},
   "outputs": [
    {
     "name": "stdout",
     "output_type": "stream",
     "text": [
      "A solução da equação 5.0x + 2.0 = 0 é: -0.4\n"
     ]
    }
   ],
   "source": [
    "def resolve_linear(a, b):\n",
    "    # verifica se 'a' é zero, o que indicaria que a equação não é linear (degenerada).\n",
    "    if a == 0:\n",
    "        # se 'b' também for zero, a equação tem infinitas soluções.\n",
    "        # caso contrário, não há solução.\n",
    "        return \"Sem solução\" if b != 0 else \"Infinitas soluções\"\n",
    "    # Se 'a' não for zero, calcula a solução da equação linear ax + b = 0 e retrona a solução x = -b/a.\n",
    "    return -b / a\n",
    "\n",
    "# Pede ao usuário para inserir os coeficientes 'a' e 'b' da equação linear.\n",
    "a = float(input(\"Digite o coeficiente a: \"))\n",
    "b = float(input(\"Digite o coeficiente b: \"))\n",
    "\n",
    "# imprime a solução da equação linear, chamando a função resolve_linear com os valores de 'a' e 'b'.\n",
    "print(f\"A solução da equação {a}x + {b} = 0 é: {resolve_linear(a, b)}\")"
   ]
  },
  {
   "cell_type": "markdown",
   "id": "1ac11697",
   "metadata": {},
   "source": [
    "### Exerício 4: Cálculo de média aritmética\n",
    "Escreva um programa que calcula a média aritmética de uma lista de números fornecida pelo usuário"
   ]
  },
  {
   "cell_type": "code",
   "execution_count": 4,
   "id": "91051a10",
   "metadata": {},
   "outputs": [
    {
     "name": "stdout",
     "output_type": "stream",
     "text": [
      "Os números inseridos foram: 1, 2, 3\n",
      "A média aritmética é: 2.00\n"
     ]
    }
   ],
   "source": [
    "def media_aritmetica(numeros):\n",
    "    # Calcula a média aritmética de uma lista de números.\n",
    "    return sum(numeros) / len(numeros)\n",
    "# Pede ao usuário para inserir uma lista de números separados por vírgula.\n",
    "lista_numeros = input(\"Digite uma lista de números separados por vírgula: \")\n",
    "# Converte a entrada em uma lista de números de ponto flutuante.\n",
    "numeros = [float(num) for num in lista_numeros.split(',')] #list comprehension\n",
    "\n",
    "# Imprime a média aritmética dos números, chamando a função media_aritmetica com a lista de números.\n",
    "print(f\"Os números inseridos foram: {lista_numeros}\")\n",
    "print(f\"A média aritmética é: {media_aritmetica(numeros):.2f}\")"
   ]
  },
  {
   "cell_type": "markdown",
   "id": "48714c3d",
   "metadata": {},
   "source": [
    "### Determinar as raizes de uma equação quadrática\n",
    "Crie um programa que encontra as raizes de uma equação quadrática do tipo: \n",
    "$$ \n",
    "ax^2 + bx + c = 0 $$\n",
    "O programa deve lidar com todos os tipos de raizes (reais e complexas)"
   ]
  },
  {
   "cell_type": "code",
   "execution_count": 5,
   "id": "674810a6",
   "metadata": {},
   "outputs": [
    {
     "name": "stdout",
     "output_type": "stream",
     "text": [
      "As raízes da equação 29.0x² + 13.0x + 2.0 = 0 são: x1 = (-0.22413793103448276+0.1368492057447202j), x2 = (-0.22413793103448276-0.1368492057447202j)\n"
     ]
    }
   ],
   "source": [
    "# importa o módulo cmath para realizar operações matemáticas avançadas.\n",
    "import cmath\n",
    "\n",
    "def raizes_quadraticas(a, b, c):\n",
    "    # Calcula o discriminante da equação quadrática.\n",
    "    delta = cmath.sqrt(b**2 - 4*a*c) # (b² - 4ac)\n",
    "    # Calcula as raízes da equação quadrática usando a fórmula: (-b ± √(b² - 4ac)) / (2a).\n",
    "    x1 = (-b + delta) / (2*a)\n",
    "    x2 = (-b - delta) / (2*a)\n",
    "    \n",
    "    # Retorna as duas raízes como um par de valores dentro de uma tupla.\n",
    "    return x1, x2\n",
    "\n",
    "a = float(input(\"Digite o valor de a: \"))\n",
    "b = float(input(\"Digite o valor de b: \"))\n",
    "c = float(input(\"Digite o valor de c: \"))\n",
    "\n",
    "# Imprime as raízes da equação quadrática, chamando a função raizes_quadraticas com os valores de 'a', 'b' e 'c'.\n",
    "x1, x2 = raizes_quadraticas(a, b, c)\n",
    "\n",
    "print(f\"As raízes da equação {a}x² + {b}x + {c} = 0 são: x1 = {x1}, x2 = {x2}\")\n"
   ]
  },
  {
   "cell_type": "markdown",
   "id": "9270b592",
   "metadata": {},
   "source": [
    "### Exercício 6: Calcular o fatorial de um número\n",
    "Escreva uma função que calcula o fatorial de um número inteiro fornecido pelo usuário\n",
    "\n",
    "*O fatorial de um número inteiro não negativo n, denotado por n!, é o produto de todos os inteiros positivos menores ou iguais a n. O conceito de fatorial é amplamente utilizado em matemática, especialmente em combinações e permutações, onde é usado para calcular o número de manieras possíveis de organizar ou escolher objetos*"
   ]
  },
  {
   "cell_type": "code",
   "execution_count": 6,
   "id": "2d26e080",
   "metadata": {},
   "outputs": [
    {
     "name": "stdout",
     "output_type": "stream",
     "text": [
      "O fatorial de 72 é: 61234458376886086861524070385274672740778091784697328983823014963978384987221689274204160000000000000000\n"
     ]
    }
   ],
   "source": [
    "def fatorial(n):\n",
    "    \n",
    "    # Retorna 1 se n é 0, pois o fatorial de 0 é definido como 1.\n",
    "    # Caso contário, retorna n multiplicado pelo fatorial de n-1 (chamada recursiva)\n",
    "    # o que efetivamente contrói o produto n * (n-1) * (n-2) * ... * 1.\n",
    "    return 1 if n == 0 else n * fatorial(n - 1)\n",
    "\n",
    "# Pede ao usuário para inserir um número inteiro e converte a entrada para um número inteiro\n",
    "num = int(input(\"Digite um número: \"))\n",
    "\n",
    "# Imprime o fatorial do número, chamando a função fatorial com o número fornecido pelo usuário.\n",
    "print(f\"O fatorial de {num} é: {fatorial(num)}\")\n"
   ]
  },
  {
   "cell_type": "markdown",
   "id": "c49a948a",
   "metadata": {},
   "source": [
    "### Execício 7: Sequencia Fibonacci\n",
    "Crie um programa que gera a sequencia de Fibonacci até um determinado número n fornecido pelo usuário"
   ]
  },
  {
   "cell_type": "code",
   "execution_count": 7,
   "id": "98956cc2",
   "metadata": {},
   "outputs": [
    {
     "name": "stdout",
     "output_type": "stream",
     "text": [
      "Os primeiros 6 termos da sequência de Fibonacci são: [0, 1, 1, 2, 3, 5]\n"
     ]
    }
   ],
   "source": [
    "def fibonnaci(n):\n",
    "    # Inicializa as duas primeiras variáveis, a e b, que armazenam os dois primeiros números da sequência de Fibonacci.\n",
    "    a, b = 0, 1\n",
    "    \n",
    "    # um loop que itera n vezes para gerar n termos da sequência de Fibonacci.\n",
    "    for _ in range(n): # o underscore (_) é usado como uma variável descartável, pois não precisamos do índice da iteração.\n",
    "        # Gera o valor atual de a, que é um termo da sequência de Fibonacci.\n",
    "        yield a # yield é usado para retornar o valor atual de a e pausar a execução da função, permitindo que ela seja retomada na próxima iteração.\n",
    "        \n",
    "        # Atualiza os valores de a e b para os próximos dois termos da sequência.\n",
    "        # a recebe o valor atual de b, e b recebe a soma dos valores atuais de a e b.\n",
    "        a, b = b, a + b\n",
    "    \n",
    "# Solicita ao usuário para inserir o número de termos da sequência de Fibonacci que deseja gerar e converte a entrada para um número inteiro.\n",
    "n = int(input(\"Digite o número de termos da sequência de Fibonacci: \"))\n",
    "\n",
    "# Imprime os termos da sequência de Fibonacci, chamando a função fibonnaci com o número de termos fornecido pelo usuário.\n",
    "print(f\"Os primeiros {n} termos da sequência de Fibonacci são: {list(fibonnaci(n))}\")"
   ]
  },
  {
   "cell_type": "markdown",
   "id": "4fbbc372",
   "metadata": {},
   "source": [
    "### Exercício 8: Cálculo de juros compostos\n",
    "Faça um programa que calcula o montante final de um investimento com juros compostos. \n",
    "\n",
    "O usuário deve fornecer:\n",
    "- M = Montante\n",
    "- C = Capital inicial\n",
    "- r = Taxa de juros anual\n",
    "- t = Tempo\n",
    "$$\n",
    "M = C * (1 + r)^t\n",
    "$$"
   ]
  },
  {
   "cell_type": "code",
   "execution_count": 8,
   "id": "f3f71960",
   "metadata": {},
   "outputs": [
    {
     "name": "stdout",
     "output_type": "stream",
     "text": [
      "O montante acumulado após 2 anos é: 40481.44 (Capital: 40000.0, Taxa: 0.60%)\n"
     ]
    }
   ],
   "source": [
    "def juros_compostos(capital, taxa, tempo):\n",
    "    # Calcula o montante acumulado após um período de tempo com juros compostos.\n",
    "    # A fórmula é: montante = capital * (1 + taxa) ** tempo\n",
    "    return capital * (1 + taxa) ** tempo\n",
    "\n",
    "# solicita ao usuário para inserir o capital inicial, a taxa de juros (como um decimal) e o tempo em anos.\n",
    "capital = float(input(\"Digite o capital inicial: \"))\n",
    "taxa = float(input(\"Digite a taxa de juros (em decimal, por exemplo, 0.05 para 5%): \"))\n",
    "tempo = int(input(\"Digite o tempo em anos: \")) \n",
    "\n",
    "# Imprime o montante acumulado após o período de tempo, chamando a função juros_compostos com os valores fornecidos pelo usuário.\n",
    "montante = juros_compostos(capital, taxa, tempo)\n",
    "\n",
    "print(f\"O montante acumulado após {tempo} anos é: {montante:.2f} (Capital: {capital}, Taxa: {taxa*100:.2f}%)\")"
   ]
  },
  {
   "cell_type": "markdown",
   "id": "97c1487f",
   "metadata": {},
   "source": [
    "### Conversão de moedas\n",
    "Escreva um programa que converte uma quantidade de uma modela (como dólar) para outra (como real), considerando uma taxa de câmbio fornecida pelo usuário."
   ]
  },
  {
   "cell_type": "code",
   "execution_count": 9,
   "id": "a9f174ce",
   "metadata": {},
   "outputs": [
    {
     "name": "stdout",
     "output_type": "stream",
     "text": [
      "Valor convertido de USD 2.0, com taxa de câmbio 5.67 em reais é de: R$ 11.34\n"
     ]
    }
   ],
   "source": [
    "def converte_moeda(valor, taxa_cambio):\n",
    "    # Converte um valor monetário de uma moeda para outra usando a taxa de câmbio fornecida.\n",
    "    return valor * taxa_cambio\n",
    "\n",
    "# Solicita ao usuário para inserir o valor a ser convertido e a taxa de câmbio.\n",
    "valor = float(input(\"Digite o valor na moeda original: \"))\n",
    "\n",
    "# Solicita ao usuário para inserir a taxa de câmbio (por exemplo, 1.2 para converter de USD para BRA).\n",
    "taxa_cambio = float(input(\"Digite a taxa de câmbio (por exemplo, 1.2 para converter de USD para BRA): \"))\n",
    "\n",
    "# Imprime o valor convertido, chamando a função converte_moeda com o valor e a taxa de câmbio fornecidos pelo usuário.\n",
    "print(f\"Valor convertido de USD {valor}, com taxa de câmbio {taxa_cambio} em reais é de: R$\", converte_moeda(valor, taxa_cambio))"
   ]
  },
  {
   "cell_type": "markdown",
   "id": "ae559dae",
   "metadata": {},
   "source": [
    "### Exercício 10: Verificar se um número é primo\n",
    "Crie uma função que verifique se um número fornecido pelo usuário é primo ou não\n",
    "\n",
    "*Um número primo é um número natural maior do que 1 que não tem outros divisores além de 1 ele mesmo. Em outras palavras, um número primo é se só pode ser dividido de forma exata por 1 e por ele próprio. Esses números têm uma importância fundamental em várias áreas da matemática, incluindo a teoria dos números, a criptografia e a análise de algoritmos*"
   ]
  },
  {
   "cell_type": "code",
   "execution_count": 10,
   "id": "2ff3f07a",
   "metadata": {},
   "outputs": [
    {
     "name": "stdout",
     "output_type": "stream",
     "text": [
      "O número não é primo.\n"
     ]
    }
   ],
   "source": [
    "def numeros_primos(n):\n",
    "    # Verifica se o número é menor que 2, pois números menores que 2 não são primos.\n",
    "    if n < 2:\n",
    "        return False\n",
    "\n",
    "    # Percorre todos os números de 2 até a raiz quadrada de n (arredondando para cima)\n",
    "    # Essa otimização é possível porque se um número tem um divisor maior que sua raiz quadrada, então ele também terá um divisor menor que sua raiz quadrada.\n",
    "    for i in range(2, int(n**0.5) + 1):        \n",
    "        # Se n é divisível por i, então n não é primo.\n",
    "        if n % i == 0:\n",
    "            return False\n",
    "    \n",
    "    # Se o loop for concluído sem encontrar divisores, n é primo.\n",
    "    return True\n",
    "\n",
    "# Solicita ao usuário para inserir um número inteiro e converte a entrada para um número inteiro.\n",
    "numero = int(input(\"Digite um número inteiro: \"))\n",
    "\n",
    "#Imprime se o número é primo ou não, chamando a função numeros_primos com o número fornecido pelo usuário.\n",
    "print(\"O número é primo.\" if numeros_primos(numero) else \"O número não é primo.\")\t"
   ]
  },
  {
   "cell_type": "code",
   "execution_count": 11,
   "id": "4fc12426",
   "metadata": {},
   "outputs": [
    {
     "name": "stdout",
     "output_type": "stream",
     "text": [
      "Author: Data Science Academy\n",
      "\n"
     ]
    }
   ],
   "source": [
    "%reload_ext watermark\n",
    "%watermark -a \"Data Science Academy\""
   ]
  },
  {
   "cell_type": "code",
   "execution_count": 13,
   "id": "e5537dc1",
   "metadata": {},
   "outputs": [
    {
     "name": "stdout",
     "output_type": "stream",
     "text": [
      "Python implementation: CPython\n",
      "Python version       : 3.12.6\n",
      "IPython version      : 9.2.0\n",
      "\n",
      "Compiler    : MSC v.1940 64 bit (AMD64)\n",
      "OS          : Windows\n",
      "Release     : 11\n",
      "Machine     : AMD64\n",
      "Processor   : AMD64 Family 25 Model 33 Stepping 0, AuthenticAMD\n",
      "CPU cores   : 12\n",
      "Architecture: 64bit\n",
      "\n"
     ]
    }
   ],
   "source": [
    "%watermark -v -m"
   ]
  },
  {
   "cell_type": "code",
   "execution_count": null,
   "id": "498cc06e",
   "metadata": {},
   "outputs": [],
   "source": []
  }
 ],
 "metadata": {
  "kernelspec": {
   "display_name": ".venv",
   "language": "python",
   "name": "python3"
  },
  "language_info": {
   "codemirror_mode": {
    "name": "ipython",
    "version": 3
   },
   "file_extension": ".py",
   "mimetype": "text/x-python",
   "name": "python",
   "nbconvert_exporter": "python",
   "pygments_lexer": "ipython3",
   "version": "3.12.6"
  }
 },
 "nbformat": 4,
 "nbformat_minor": 5
}
